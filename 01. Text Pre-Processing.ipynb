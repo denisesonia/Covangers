{
 "cells": [
  {
   "cell_type": "markdown",
   "metadata": {},
   "source": [
    "# Text Pre-Processing"
   ]
  },
  {
   "cell_type": "code",
   "execution_count": 1,
   "metadata": {
    "id": "xV37jPAtWlvU"
   },
   "outputs": [],
   "source": [
    "import pandas as pd\n",
    "import numpy as np\n",
    "import re\n",
    "import itertools\n",
    "import collections\n",
    "import string \n",
    "from collections import OrderedDict"
   ]
  },
  {
   "cell_type": "code",
   "execution_count": 2,
   "metadata": {
    "colab": {
     "base_uri": "https://localhost:8080/",
     "height": 402
    },
    "id": "pDk0b5KQY8iK",
    "outputId": "9b7e44fe-dcbd-476d-b2ef-40e5eb558350"
   },
   "outputs": [],
   "source": [
    "raw = pd.read_csv( \"Data Tweet Vaksinasi Jakarta.csv\")"
   ]
  },
  {
   "cell_type": "code",
   "execution_count": 3,
   "metadata": {
    "id": "ousZNTLBZUlN"
   },
   "outputs": [],
   "source": [
    "stop_words = np.array(pd.read_csv(\"data_support/stopwords_ID.txt\",\n",
    "                        sep=\"\\n\", header=None).values)\n",
    "neg_words = np.array(pd.read_csv(\"data_support/negative_keyword_ID.txt\",\n",
    "                        sep=\"\\n\", header=None).values)\n",
    "pos_words = np.array(pd.read_csv(\"data_support/positive_keyword_ID.txt\",\n",
    "                        sep=\"\\n\", header=None).values)\n",
    "slang_words = pd.read_csv(\"data_support/kbba_ID.txt\",\n",
    "                        sep=\"\\t\", header=None)\n",
    "root_words = np.array(pd.read_csv(\"data_support/rootword_ID.txt\",\n",
    "                        sep=\"\\n\", header=None).values)\n",
    "slang = pd.read_csv(\"data_support/slangword_ID.txt\",\n",
    "                        sep=\":\", header=None)\n",
    "emoticon = pd.read_csv(\"data_support/emoticon.txt\",\n",
    "                        sep=\"\\t\", header=None)\n",
    "booster_words = np.array(pd.read_csv(\"data_support/boosterword_ID.txt\",\n",
    "                        sep=\"\\n\", header=None).values)\n",
    "baku_words = pd.read_csv(\"data_support/katabaku_ID.txt\",\n",
    "                        sep=\"|\", header=None)\n",
    "baku_words.columns = [1,0]"
   ]
  },
  {
   "cell_type": "code",
   "execution_count": 4,
   "metadata": {
    "id": "YiSiAGuvdo-E"
   },
   "outputs": [],
   "source": [
    "slang_words = pd.concat([slang_words, slang, baku_words])\n",
    "sentiment_words = np.concatenate((pos_words, neg_words, booster_words))\n",
    "slang_words.drop_duplicates(inplace=True)\n",
    "emoticon.drop_duplicates(inplace=True)\n",
    "emoticon = dict(zip(emoticon[0], emoticon[1]))\n",
    "slang_words = dict(zip(slang_words[0],slang_words[1]))\n",
    "neg_words = np.unique(neg_words)\n",
    "pos_words = np.unique(pos_words)\n",
    "stop_words = np.unique(stop_words)\n",
    "stop_words = [word for word in stop_words if word not in sentiment_words]"
   ]
  },
  {
   "cell_type": "code",
   "execution_count": 5,
   "metadata": {
    "id": "UxQU6FwLd2-P"
   },
   "outputs": [
    {
     "name": "stdout",
     "output_type": "stream",
     "text": [
      "------Dictionary Info---------\n",
      "Slang words = 2398 entries\n",
      "Emoticon = 110 entries\n",
      "Root words = 27979 entries\n",
      "Sentiment words = 8449 entries\n"
     ]
    }
   ],
   "source": [
    "print(\"------Dictionary Info---------\")\n",
    "print(\"Slang words = \"  + str(len(slang_words)) + \" entries\")\n",
    "print(\"Emoticon = \"  + str(len(emoticon)) + \" entries\" )\n",
    "print(\"Root words = \"  + str(len(root_words)) + \" entries\")\n",
    "print(\"Sentiment words = \"  + str(len(sentiment_words)) + \" entries\")"
   ]
  },
  {
   "cell_type": "code",
   "execution_count": 6,
   "metadata": {
    "id": "5ZECm5yrd9Wp"
   },
   "outputs": [
    {
     "name": "stdout",
     "output_type": "stream",
     "text": [
      "<class 'pandas.core.frame.DataFrame'>\n",
      "RangeIndex: 25000 entries, 0 to 24999\n",
      "Data columns (total 9 columns):\n",
      " #   Column          Non-Null Count  Dtype \n",
      "---  ------          --------------  ----- \n",
      " 0   created_at      25000 non-null  object\n",
      " 1   user            25000 non-null  object\n",
      " 2   location        24667 non-null  object\n",
      " 3   coordinates     48 non-null     object\n",
      " 4   text            25000 non-null  object\n",
      " 5   retweet_count   25000 non-null  int64 \n",
      " 6   favorite_count  25000 non-null  int64 \n",
      " 7   id              25000 non-null  object\n",
      " 8   nama_kota       25000 non-null  object\n",
      "dtypes: int64(2), object(7)\n",
      "memory usage: 1.7+ MB\n",
      "None\n"
     ]
    }
   ],
   "source": [
    "print(raw.info())"
   ]
  },
  {
   "cell_type": "code",
   "execution_count": 7,
   "metadata": {
    "id": "97vkIHA-eFTJ"
   },
   "outputs": [],
   "source": [
    "raw = raw.dropna(subset=['text'],how='all')\n",
    "raw = raw.drop_duplicates(subset=['text'])"
   ]
  },
  {
   "cell_type": "code",
   "execution_count": 8,
   "metadata": {
    "id": "L6Mc2woeeZps"
   },
   "outputs": [
    {
     "name": "stdout",
     "output_type": "stream",
     "text": [
      "<class 'pandas.core.frame.DataFrame'>\n",
      "Int64Index: 5380 entries, 0 to 19972\n",
      "Data columns (total 9 columns):\n",
      " #   Column          Non-Null Count  Dtype \n",
      "---  ------          --------------  ----- \n",
      " 0   created_at      5380 non-null   object\n",
      " 1   user            5380 non-null   object\n",
      " 2   location        5291 non-null   object\n",
      " 3   coordinates     13 non-null     object\n",
      " 4   text            5380 non-null   object\n",
      " 5   retweet_count   5380 non-null   int64 \n",
      " 6   favorite_count  5380 non-null   int64 \n",
      " 7   id              5380 non-null   object\n",
      " 8   nama_kota       5380 non-null   object\n",
      "dtypes: int64(2), object(7)\n",
      "memory usage: 420.3+ KB\n",
      "None\n"
     ]
    }
   ],
   "source": [
    "print(raw.info())"
   ]
  },
  {
   "cell_type": "markdown",
   "metadata": {
    "id": "tuWcugk0ejf9"
   },
   "source": [
    "Prepare the Helper Text \n",
    "\n",
    "\n",
    "1.   Angka Satuan & Translate Angka (0-9) (Satu, Dua, Tiga)\n",
    "2.   Translate Repeating Words, Emoticon, Non-Alpha Numeric, Normalize Word\n",
    "3.   Delete Suffix\n",
    "\n",
    "\n",
    "\n",
    "\n"
   ]
  },
  {
   "cell_type": "code",
   "execution_count": 9,
   "metadata": {
    "id": "xUk6fYsVf_C-"
   },
   "outputs": [],
   "source": [
    "satuan = ['', 'satu', 'dua', 'tiga', 'empat', 'lima', 'enam', 'tujuh',\n",
    "          'delapan', 'sembilan', 'sepuluh', 'sebelas']\n",
    "    \n",
    "def terbilang_(n):\n",
    "    if n >= 0 and n <= 11:\n",
    "        hasil = [satuan[n]]\n",
    "    elif n >= 12 and n <= 19:\n",
    "        hasil = terbilang_(n % 10) + ['belas']\n",
    "    elif n >= 20 and n <= 99:\n",
    "        hasil = terbilang_(n // 10) + ['puluh'] + terbilang_(n % 10)\n",
    "    elif n >= 100 and n <= 199:\n",
    "        hasil = ['seratus'] + terbilang_(n - 100)\n",
    "    elif n >= 200 and n <= 999:\n",
    "        hasil = terbilang_(n // 100) + ['ratus'] + terbilang_(n % 100)\n",
    "    elif n >= 1000 and n <= 1999:\n",
    "        hasil = ['seribu'] + terbilang_(n - 1000)\n",
    "    elif n >= 2000 and n <= 999999:\n",
    "        hasil = terbilang_(n // 1000) + ['ribu'] + terbilang_(n % 1000)\n",
    "    elif n >= 1000000 and n <= 999999999:\n",
    "        hasil = terbilang_(n // 1000000) + ['juta'] + terbilang_(n % 1000000)\n",
    "    else:\n",
    "        hasil = terbilang_(n // 1000000000) + ['milyar'] + terbilang_(n % 100000000)\n",
    "    return hasil\n",
    "\n",
    "def terbilang(n):\n",
    "    if n == 0:\n",
    "        return 'nol'\n",
    "    t = terbilang_(n)\n",
    "    while '' in t:\n",
    "        t.remove('')\n",
    "    return ' '.join(t)\n",
    "\n",
    "def translate_angka(review):\n",
    "    number = re.findall(\"[0-9]+\",review)\n",
    "    for digit in number:\n",
    "        review = re.sub(digit,terbilang(int(digit))+\" \",review)\n",
    "    return review"
   ]
  },
  {
   "cell_type": "code",
   "execution_count": 10,
   "metadata": {
    "id": "O7_OcrXKgDwj"
   },
   "outputs": [],
   "source": [
    "def translate_repeating_words(review):\n",
    "    repeating_words = re.findall(r'\\w*(?:2|\")',review)\n",
    "    for word in repeating_words:\n",
    "        cleaned = word[:-1]\n",
    "        review = re.sub(word,cleaned + \" \" + cleaned, review)\n",
    "    return review"
   ]
  },
  {
   "cell_type": "code",
   "execution_count": 11,
   "metadata": {
    "id": "GFQmXx1qgGaV"
   },
   "outputs": [],
   "source": [
    "def delete_suffix_nya(review):\n",
    "    return re.sub(\"(?:nya|ny)[$|\\s]\",\" \",review)"
   ]
  },
  {
   "cell_type": "code",
   "execution_count": 12,
   "metadata": {
    "id": "v4Rko8YkgJgQ"
   },
   "outputs": [],
   "source": [
    "def translate_emoticon(t):\n",
    "    for w, v in emoticon.items():\n",
    "        pattern = re.compile(re.escape(w))\n",
    "        match = re.search(pattern,t)\n",
    "        if match:\n",
    "            t = re.sub(pattern,v,t)\n",
    "    return t"
   ]
  },
  {
   "cell_type": "code",
   "execution_count": 13,
   "metadata": {
    "id": "1lBTmbc7gMpL"
   },
   "outputs": [],
   "source": [
    "def translate_non_alpha_num(t):\n",
    "    non_alpha_num = {\n",
    "        '%' : 'persen',\n",
    "        '$' : 'dolar',\n",
    "        '@' : 'di',\n",
    "        '&' : 'dan',\n",
    "        '/' : 'atau',\n",
    "        '+' : 'plus'\n",
    "    }\n",
    "    for w, v in non_alpha_num.items():\n",
    "        pattern = re.compile(re.escape(w))\n",
    "        match = re.search(pattern,t)\n",
    "        if match:\n",
    "            t = re.sub(pattern,v + \" \",t)\n",
    "    return t"
   ]
  },
  {
   "cell_type": "code",
   "execution_count": 14,
   "metadata": {
    "id": "M9OMfpnggPdK"
   },
   "outputs": [],
   "source": [
    "def remove_non_alphanumeric(review):\n",
    "    return re.sub(\"[^a-zA-Z\\d]\",\" \", review)"
   ]
  },
  {
   "cell_type": "code",
   "execution_count": 15,
   "metadata": {
    "id": "HuWRdBihgSXa"
   },
   "outputs": [],
   "source": [
    "\n",
    "def normalizing_words(review):\n",
    "    return ''.join(''.join(s)[:1] for _, s in itertools.groupby(review))"
   ]
  },
  {
   "cell_type": "markdown",
   "metadata": {
    "id": "LzEsPLafgfnV"
   },
   "source": [
    "Data Cleaning Process \n",
    "\n",
    "1.   Translate Repeating Words\n",
    "2.   Translate Emoticon\n",
    "3.   Lower Words\n",
    "4.   Translate Non Alpha Numeric & Remove Non Alpha Numeric\n",
    "5.   Delete Suffix\n",
    "6.   Translate Angka\n",
    "7.   Normalize Words\n",
    "8.   Spell Checking (Norvig's Algorithm)\n",
    "8.   Remove Stopword \n",
    "\n",
    "\n"
   ]
  },
  {
   "cell_type": "code",
   "execution_count": 16,
   "metadata": {
    "id": "VqiCQ0xMiF3o"
   },
   "outputs": [
    {
     "data": {
      "text/html": [
       "<div>\n",
       "<style scoped>\n",
       "    .dataframe tbody tr th:only-of-type {\n",
       "        vertical-align: middle;\n",
       "    }\n",
       "\n",
       "    .dataframe tbody tr th {\n",
       "        vertical-align: top;\n",
       "    }\n",
       "\n",
       "    .dataframe thead th {\n",
       "        text-align: right;\n",
       "    }\n",
       "</style>\n",
       "<table border=\"1\" class=\"dataframe\">\n",
       "  <thead>\n",
       "    <tr style=\"text-align: right;\">\n",
       "      <th></th>\n",
       "      <th>created_at</th>\n",
       "      <th>user</th>\n",
       "      <th>location</th>\n",
       "      <th>coordinates</th>\n",
       "      <th>text</th>\n",
       "      <th>retweet_count</th>\n",
       "      <th>favorite_count</th>\n",
       "      <th>id</th>\n",
       "      <th>nama_kota</th>\n",
       "    </tr>\n",
       "  </thead>\n",
       "  <tbody>\n",
       "    <tr>\n",
       "      <th>0</th>\n",
       "      <td>2021-08-14 14:53:43</td>\n",
       "      <td>restrotangkot</td>\n",
       "      <td>Jl. Daan Mogot No.5, Tangerang</td>\n",
       "      <td>NaN</td>\n",
       "      <td>Jajaran Polsek Ciledug Polres Metro Tangerang ...</td>\n",
       "      <td>0</td>\n",
       "      <td>0</td>\n",
       "      <td>ID3172</td>\n",
       "      <td>JAKARTA TIMUR</td>\n",
       "    </tr>\n",
       "    <tr>\n",
       "      <th>1</th>\n",
       "      <td>2021-08-14 14:53:42</td>\n",
       "      <td>dryxanne</td>\n",
       "      <td>Jakarta</td>\n",
       "      <td>NaN</td>\n",
       "      <td>Abis tu kebangun, lsg brasa lrga cm mimpi.\\n\\n...</td>\n",
       "      <td>0</td>\n",
       "      <td>0</td>\n",
       "      <td>ID3172</td>\n",
       "      <td>JAKARTA TIMUR</td>\n",
       "    </tr>\n",
       "    <tr>\n",
       "      <th>2</th>\n",
       "      <td>2021-08-14 14:53:24</td>\n",
       "      <td>bukanlucinta</td>\n",
       "      <td>Jakarta, Indonesia.</td>\n",
       "      <td>NaN</td>\n",
       "      <td>@bertanyarl Loh bersyukur masih bisa dapet ast...</td>\n",
       "      <td>0</td>\n",
       "      <td>0</td>\n",
       "      <td>ID3172</td>\n",
       "      <td>JAKARTA TIMUR</td>\n",
       "    </tr>\n",
       "    <tr>\n",
       "      <th>3</th>\n",
       "      <td>2021-08-14 14:53:09</td>\n",
       "      <td>mporatne</td>\n",
       "      <td>DKI Jakarta, Indonesia</td>\n",
       "      <td>NaN</td>\n",
       "      <td>@trianadewi_td Dipegangin pak bupati biar tida...</td>\n",
       "      <td>0</td>\n",
       "      <td>0</td>\n",
       "      <td>ID3172</td>\n",
       "      <td>JAKARTA TIMUR</td>\n",
       "    </tr>\n",
       "    <tr>\n",
       "      <th>4</th>\n",
       "      <td>2021-08-14 14:52:20</td>\n",
       "      <td>whopsy_opsy</td>\n",
       "      <td>Jakarta</td>\n",
       "      <td>NaN</td>\n",
       "      <td>buset abis vaksin gue makan muluu</td>\n",
       "      <td>0</td>\n",
       "      <td>0</td>\n",
       "      <td>ID3172</td>\n",
       "      <td>JAKARTA TIMUR</td>\n",
       "    </tr>\n",
       "  </tbody>\n",
       "</table>\n",
       "</div>"
      ],
      "text/plain": [
       "            created_at           user                        location  \\\n",
       "0  2021-08-14 14:53:43  restrotangkot  Jl. Daan Mogot No.5, Tangerang   \n",
       "1  2021-08-14 14:53:42       dryxanne                         Jakarta   \n",
       "2  2021-08-14 14:53:24   bukanlucinta             Jakarta, Indonesia.   \n",
       "3  2021-08-14 14:53:09       mporatne          DKI Jakarta, Indonesia   \n",
       "4  2021-08-14 14:52:20    whopsy_opsy                         Jakarta   \n",
       "\n",
       "  coordinates                                               text  \\\n",
       "0         NaN  Jajaran Polsek Ciledug Polres Metro Tangerang ...   \n",
       "1         NaN  Abis tu kebangun, lsg brasa lrga cm mimpi.\\n\\n...   \n",
       "2         NaN  @bertanyarl Loh bersyukur masih bisa dapet ast...   \n",
       "3         NaN  @trianadewi_td Dipegangin pak bupati biar tida...   \n",
       "4         NaN                  buset abis vaksin gue makan muluu   \n",
       "\n",
       "   retweet_count  favorite_count      id      nama_kota  \n",
       "0              0               0  ID3172  JAKARTA TIMUR  \n",
       "1              0               0  ID3172  JAKARTA TIMUR  \n",
       "2              0               0  ID3172  JAKARTA TIMUR  \n",
       "3              0               0  ID3172  JAKARTA TIMUR  \n",
       "4              0               0  ID3172  JAKARTA TIMUR  "
      ]
     },
     "execution_count": 16,
     "metadata": {},
     "output_type": "execute_result"
    }
   ],
   "source": [
    "raw['text'] = raw['text'].apply(translate_repeating_words)\n",
    "raw.head()"
   ]
  },
  {
   "cell_type": "code",
   "execution_count": 17,
   "metadata": {
    "id": "NIg9Pma9MWWD"
   },
   "outputs": [
    {
     "data": {
      "text/html": [
       "<div>\n",
       "<style scoped>\n",
       "    .dataframe tbody tr th:only-of-type {\n",
       "        vertical-align: middle;\n",
       "    }\n",
       "\n",
       "    .dataframe tbody tr th {\n",
       "        vertical-align: top;\n",
       "    }\n",
       "\n",
       "    .dataframe thead th {\n",
       "        text-align: right;\n",
       "    }\n",
       "</style>\n",
       "<table border=\"1\" class=\"dataframe\">\n",
       "  <thead>\n",
       "    <tr style=\"text-align: right;\">\n",
       "      <th></th>\n",
       "      <th>created_at</th>\n",
       "      <th>user</th>\n",
       "      <th>location</th>\n",
       "      <th>coordinates</th>\n",
       "      <th>text</th>\n",
       "      <th>retweet_count</th>\n",
       "      <th>favorite_count</th>\n",
       "      <th>id</th>\n",
       "      <th>nama_kota</th>\n",
       "    </tr>\n",
       "  </thead>\n",
       "  <tbody>\n",
       "    <tr>\n",
       "      <th>0</th>\n",
       "      <td>2021-08-14 14:53:43</td>\n",
       "      <td>restrotangkot</td>\n",
       "      <td>Jl. Daan Mogot No.5, Tangerang</td>\n",
       "      <td>NaN</td>\n",
       "      <td>Jajaran Polsek Ciledug Polres Metro Tangerang ...</td>\n",
       "      <td>0</td>\n",
       "      <td>0</td>\n",
       "      <td>ID3172</td>\n",
       "      <td>JAKARTA TIMUR</td>\n",
       "    </tr>\n",
       "    <tr>\n",
       "      <th>1</th>\n",
       "      <td>2021-08-14 14:53:42</td>\n",
       "      <td>dryxanne</td>\n",
       "      <td>Jakarta</td>\n",
       "      <td>NaN</td>\n",
       "      <td>Abis tu kebangun, lsg brasa lrga cm mimpi.\\n\\n...</td>\n",
       "      <td>0</td>\n",
       "      <td>0</td>\n",
       "      <td>ID3172</td>\n",
       "      <td>JAKARTA TIMUR</td>\n",
       "    </tr>\n",
       "    <tr>\n",
       "      <th>2</th>\n",
       "      <td>2021-08-14 14:53:24</td>\n",
       "      <td>bukanlucinta</td>\n",
       "      <td>Jakarta, Indonesia.</td>\n",
       "      <td>NaN</td>\n",
       "      <td>@bertanyarl Loh bersyukur masih bisa dapet ast...</td>\n",
       "      <td>0</td>\n",
       "      <td>0</td>\n",
       "      <td>ID3172</td>\n",
       "      <td>JAKARTA TIMUR</td>\n",
       "    </tr>\n",
       "    <tr>\n",
       "      <th>3</th>\n",
       "      <td>2021-08-14 14:53:09</td>\n",
       "      <td>mporatne</td>\n",
       "      <td>DKI Jakarta, Indonesia</td>\n",
       "      <td>NaN</td>\n",
       "      <td>@trianadewi_td Dipegangin pak bupati biar tida...</td>\n",
       "      <td>0</td>\n",
       "      <td>0</td>\n",
       "      <td>ID3172</td>\n",
       "      <td>JAKARTA TIMUR</td>\n",
       "    </tr>\n",
       "    <tr>\n",
       "      <th>4</th>\n",
       "      <td>2021-08-14 14:52:20</td>\n",
       "      <td>whopsy_opsy</td>\n",
       "      <td>Jakarta</td>\n",
       "      <td>NaN</td>\n",
       "      <td>buset abis vaksin gue makan muluu</td>\n",
       "      <td>0</td>\n",
       "      <td>0</td>\n",
       "      <td>ID3172</td>\n",
       "      <td>JAKARTA TIMUR</td>\n",
       "    </tr>\n",
       "  </tbody>\n",
       "</table>\n",
       "</div>"
      ],
      "text/plain": [
       "            created_at           user                        location  \\\n",
       "0  2021-08-14 14:53:43  restrotangkot  Jl. Daan Mogot No.5, Tangerang   \n",
       "1  2021-08-14 14:53:42       dryxanne                         Jakarta   \n",
       "2  2021-08-14 14:53:24   bukanlucinta             Jakarta, Indonesia.   \n",
       "3  2021-08-14 14:53:09       mporatne          DKI Jakarta, Indonesia   \n",
       "4  2021-08-14 14:52:20    whopsy_opsy                         Jakarta   \n",
       "\n",
       "  coordinates                                               text  \\\n",
       "0         NaN  Jajaran Polsek Ciledug Polres Metro Tangerang ...   \n",
       "1         NaN  Abis tu kebangun, lsg brasa lrga cm mimpi.\\n\\n...   \n",
       "2         NaN  @bertanyarl Loh bersyukur masih bisa dapet ast...   \n",
       "3         NaN  @trianadewi_td Dipegangin pak bupati biar tida...   \n",
       "4         NaN                  buset abis vaksin gue makan muluu   \n",
       "\n",
       "   retweet_count  favorite_count      id      nama_kota  \n",
       "0              0               0  ID3172  JAKARTA TIMUR  \n",
       "1              0               0  ID3172  JAKARTA TIMUR  \n",
       "2              0               0  ID3172  JAKARTA TIMUR  \n",
       "3              0               0  ID3172  JAKARTA TIMUR  \n",
       "4              0               0  ID3172  JAKARTA TIMUR  "
      ]
     },
     "execution_count": 17,
     "metadata": {},
     "output_type": "execute_result"
    }
   ],
   "source": [
    "\n",
    "raw['text'] = raw['text'].apply(translate_emoticon)\n",
    "raw.head()"
   ]
  },
  {
   "cell_type": "code",
   "execution_count": 18,
   "metadata": {
    "id": "KIssIvZMRFE1"
   },
   "outputs": [
    {
     "data": {
      "text/html": [
       "<div>\n",
       "<style scoped>\n",
       "    .dataframe tbody tr th:only-of-type {\n",
       "        vertical-align: middle;\n",
       "    }\n",
       "\n",
       "    .dataframe tbody tr th {\n",
       "        vertical-align: top;\n",
       "    }\n",
       "\n",
       "    .dataframe thead th {\n",
       "        text-align: right;\n",
       "    }\n",
       "</style>\n",
       "<table border=\"1\" class=\"dataframe\">\n",
       "  <thead>\n",
       "    <tr style=\"text-align: right;\">\n",
       "      <th></th>\n",
       "      <th>created_at</th>\n",
       "      <th>user</th>\n",
       "      <th>location</th>\n",
       "      <th>coordinates</th>\n",
       "      <th>text</th>\n",
       "      <th>retweet_count</th>\n",
       "      <th>favorite_count</th>\n",
       "      <th>id</th>\n",
       "      <th>nama_kota</th>\n",
       "    </tr>\n",
       "  </thead>\n",
       "  <tbody>\n",
       "    <tr>\n",
       "      <th>0</th>\n",
       "      <td>2021-08-14 14:53:43</td>\n",
       "      <td>restrotangkot</td>\n",
       "      <td>Jl. Daan Mogot No.5, Tangerang</td>\n",
       "      <td>NaN</td>\n",
       "      <td>jajaran polsek ciledug polres metro tangerang ...</td>\n",
       "      <td>0</td>\n",
       "      <td>0</td>\n",
       "      <td>ID3172</td>\n",
       "      <td>JAKARTA TIMUR</td>\n",
       "    </tr>\n",
       "    <tr>\n",
       "      <th>1</th>\n",
       "      <td>2021-08-14 14:53:42</td>\n",
       "      <td>dryxanne</td>\n",
       "      <td>Jakarta</td>\n",
       "      <td>NaN</td>\n",
       "      <td>abis tu kebangun, lsg brasa lrga cm mimpi.\\n\\n...</td>\n",
       "      <td>0</td>\n",
       "      <td>0</td>\n",
       "      <td>ID3172</td>\n",
       "      <td>JAKARTA TIMUR</td>\n",
       "    </tr>\n",
       "    <tr>\n",
       "      <th>2</th>\n",
       "      <td>2021-08-14 14:53:24</td>\n",
       "      <td>bukanlucinta</td>\n",
       "      <td>Jakarta, Indonesia.</td>\n",
       "      <td>NaN</td>\n",
       "      <td>@bertanyarl loh bersyukur masih bisa dapet ast...</td>\n",
       "      <td>0</td>\n",
       "      <td>0</td>\n",
       "      <td>ID3172</td>\n",
       "      <td>JAKARTA TIMUR</td>\n",
       "    </tr>\n",
       "    <tr>\n",
       "      <th>3</th>\n",
       "      <td>2021-08-14 14:53:09</td>\n",
       "      <td>mporatne</td>\n",
       "      <td>DKI Jakarta, Indonesia</td>\n",
       "      <td>NaN</td>\n",
       "      <td>@trianadewi_td dipegangin pak bupati biar tida...</td>\n",
       "      <td>0</td>\n",
       "      <td>0</td>\n",
       "      <td>ID3172</td>\n",
       "      <td>JAKARTA TIMUR</td>\n",
       "    </tr>\n",
       "    <tr>\n",
       "      <th>4</th>\n",
       "      <td>2021-08-14 14:52:20</td>\n",
       "      <td>whopsy_opsy</td>\n",
       "      <td>Jakarta</td>\n",
       "      <td>NaN</td>\n",
       "      <td>buset abis vaksin gue makan muluu</td>\n",
       "      <td>0</td>\n",
       "      <td>0</td>\n",
       "      <td>ID3172</td>\n",
       "      <td>JAKARTA TIMUR</td>\n",
       "    </tr>\n",
       "  </tbody>\n",
       "</table>\n",
       "</div>"
      ],
      "text/plain": [
       "            created_at           user                        location  \\\n",
       "0  2021-08-14 14:53:43  restrotangkot  Jl. Daan Mogot No.5, Tangerang   \n",
       "1  2021-08-14 14:53:42       dryxanne                         Jakarta   \n",
       "2  2021-08-14 14:53:24   bukanlucinta             Jakarta, Indonesia.   \n",
       "3  2021-08-14 14:53:09       mporatne          DKI Jakarta, Indonesia   \n",
       "4  2021-08-14 14:52:20    whopsy_opsy                         Jakarta   \n",
       "\n",
       "  coordinates                                               text  \\\n",
       "0         NaN  jajaran polsek ciledug polres metro tangerang ...   \n",
       "1         NaN  abis tu kebangun, lsg brasa lrga cm mimpi.\\n\\n...   \n",
       "2         NaN  @bertanyarl loh bersyukur masih bisa dapet ast...   \n",
       "3         NaN  @trianadewi_td dipegangin pak bupati biar tida...   \n",
       "4         NaN                  buset abis vaksin gue makan muluu   \n",
       "\n",
       "   retweet_count  favorite_count      id      nama_kota  \n",
       "0              0               0  ID3172  JAKARTA TIMUR  \n",
       "1              0               0  ID3172  JAKARTA TIMUR  \n",
       "2              0               0  ID3172  JAKARTA TIMUR  \n",
       "3              0               0  ID3172  JAKARTA TIMUR  \n",
       "4              0               0  ID3172  JAKARTA TIMUR  "
      ]
     },
     "execution_count": 18,
     "metadata": {},
     "output_type": "execute_result"
    }
   ],
   "source": [
    "raw['text'] = raw['text'].apply(lambda x: x.lower())\n",
    "raw.head()"
   ]
  },
  {
   "cell_type": "code",
   "execution_count": 19,
   "metadata": {
    "id": "b-jYulOuRovw"
   },
   "outputs": [
    {
     "data": {
      "text/html": [
       "<div>\n",
       "<style scoped>\n",
       "    .dataframe tbody tr th:only-of-type {\n",
       "        vertical-align: middle;\n",
       "    }\n",
       "\n",
       "    .dataframe tbody tr th {\n",
       "        vertical-align: top;\n",
       "    }\n",
       "\n",
       "    .dataframe thead th {\n",
       "        text-align: right;\n",
       "    }\n",
       "</style>\n",
       "<table border=\"1\" class=\"dataframe\">\n",
       "  <thead>\n",
       "    <tr style=\"text-align: right;\">\n",
       "      <th></th>\n",
       "      <th>created_at</th>\n",
       "      <th>user</th>\n",
       "      <th>location</th>\n",
       "      <th>coordinates</th>\n",
       "      <th>text</th>\n",
       "      <th>retweet_count</th>\n",
       "      <th>favorite_count</th>\n",
       "      <th>id</th>\n",
       "      <th>nama_kota</th>\n",
       "    </tr>\n",
       "  </thead>\n",
       "  <tbody>\n",
       "    <tr>\n",
       "      <th>0</th>\n",
       "      <td>2021-08-14 14:53:43</td>\n",
       "      <td>restrotangkot</td>\n",
       "      <td>Jl. Daan Mogot No.5, Tangerang</td>\n",
       "      <td>NaN</td>\n",
       "      <td>jajaran polsek ciledug polres metro tangerang ...</td>\n",
       "      <td>0</td>\n",
       "      <td>0</td>\n",
       "      <td>ID3172</td>\n",
       "      <td>JAKARTA TIMUR</td>\n",
       "    </tr>\n",
       "    <tr>\n",
       "      <th>1</th>\n",
       "      <td>2021-08-14 14:53:42</td>\n",
       "      <td>dryxanne</td>\n",
       "      <td>Jakarta</td>\n",
       "      <td>NaN</td>\n",
       "      <td>abis tu kebangun, lsg brasa lrga cm mimpi.\\n\\n...</td>\n",
       "      <td>0</td>\n",
       "      <td>0</td>\n",
       "      <td>ID3172</td>\n",
       "      <td>JAKARTA TIMUR</td>\n",
       "    </tr>\n",
       "    <tr>\n",
       "      <th>2</th>\n",
       "      <td>2021-08-14 14:53:24</td>\n",
       "      <td>bukanlucinta</td>\n",
       "      <td>Jakarta, Indonesia.</td>\n",
       "      <td>NaN</td>\n",
       "      <td>di bertanyarl loh bersyukur masih bisa dapet a...</td>\n",
       "      <td>0</td>\n",
       "      <td>0</td>\n",
       "      <td>ID3172</td>\n",
       "      <td>JAKARTA TIMUR</td>\n",
       "    </tr>\n",
       "    <tr>\n",
       "      <th>3</th>\n",
       "      <td>2021-08-14 14:53:09</td>\n",
       "      <td>mporatne</td>\n",
       "      <td>DKI Jakarta, Indonesia</td>\n",
       "      <td>NaN</td>\n",
       "      <td>di trianadewi_td dipegangin pak bupati biar ti...</td>\n",
       "      <td>0</td>\n",
       "      <td>0</td>\n",
       "      <td>ID3172</td>\n",
       "      <td>JAKARTA TIMUR</td>\n",
       "    </tr>\n",
       "    <tr>\n",
       "      <th>4</th>\n",
       "      <td>2021-08-14 14:52:20</td>\n",
       "      <td>whopsy_opsy</td>\n",
       "      <td>Jakarta</td>\n",
       "      <td>NaN</td>\n",
       "      <td>buset abis vaksin gue makan muluu</td>\n",
       "      <td>0</td>\n",
       "      <td>0</td>\n",
       "      <td>ID3172</td>\n",
       "      <td>JAKARTA TIMUR</td>\n",
       "    </tr>\n",
       "  </tbody>\n",
       "</table>\n",
       "</div>"
      ],
      "text/plain": [
       "            created_at           user                        location  \\\n",
       "0  2021-08-14 14:53:43  restrotangkot  Jl. Daan Mogot No.5, Tangerang   \n",
       "1  2021-08-14 14:53:42       dryxanne                         Jakarta   \n",
       "2  2021-08-14 14:53:24   bukanlucinta             Jakarta, Indonesia.   \n",
       "3  2021-08-14 14:53:09       mporatne          DKI Jakarta, Indonesia   \n",
       "4  2021-08-14 14:52:20    whopsy_opsy                         Jakarta   \n",
       "\n",
       "  coordinates                                               text  \\\n",
       "0         NaN  jajaran polsek ciledug polres metro tangerang ...   \n",
       "1         NaN  abis tu kebangun, lsg brasa lrga cm mimpi.\\n\\n...   \n",
       "2         NaN  di bertanyarl loh bersyukur masih bisa dapet a...   \n",
       "3         NaN  di trianadewi_td dipegangin pak bupati biar ti...   \n",
       "4         NaN                  buset abis vaksin gue makan muluu   \n",
       "\n",
       "   retweet_count  favorite_count      id      nama_kota  \n",
       "0              0               0  ID3172  JAKARTA TIMUR  \n",
       "1              0               0  ID3172  JAKARTA TIMUR  \n",
       "2              0               0  ID3172  JAKARTA TIMUR  \n",
       "3              0               0  ID3172  JAKARTA TIMUR  \n",
       "4              0               0  ID3172  JAKARTA TIMUR  "
      ]
     },
     "execution_count": 19,
     "metadata": {},
     "output_type": "execute_result"
    }
   ],
   "source": [
    "raw['text'] = raw['text'].apply(translate_non_alpha_num)\n",
    "raw.head()"
   ]
  },
  {
   "cell_type": "code",
   "execution_count": 20,
   "metadata": {
    "id": "sYa-mDZPRsRd"
   },
   "outputs": [
    {
     "data": {
      "text/html": [
       "<div>\n",
       "<style scoped>\n",
       "    .dataframe tbody tr th:only-of-type {\n",
       "        vertical-align: middle;\n",
       "    }\n",
       "\n",
       "    .dataframe tbody tr th {\n",
       "        vertical-align: top;\n",
       "    }\n",
       "\n",
       "    .dataframe thead th {\n",
       "        text-align: right;\n",
       "    }\n",
       "</style>\n",
       "<table border=\"1\" class=\"dataframe\">\n",
       "  <thead>\n",
       "    <tr style=\"text-align: right;\">\n",
       "      <th></th>\n",
       "      <th>created_at</th>\n",
       "      <th>user</th>\n",
       "      <th>location</th>\n",
       "      <th>coordinates</th>\n",
       "      <th>text</th>\n",
       "      <th>retweet_count</th>\n",
       "      <th>favorite_count</th>\n",
       "      <th>id</th>\n",
       "      <th>nama_kota</th>\n",
       "    </tr>\n",
       "  </thead>\n",
       "  <tbody>\n",
       "    <tr>\n",
       "      <th>0</th>\n",
       "      <td>2021-08-14 14:53:43</td>\n",
       "      <td>restrotangkot</td>\n",
       "      <td>Jl. Daan Mogot No.5, Tangerang</td>\n",
       "      <td>NaN</td>\n",
       "      <td>jajaran polsek ciledug polres metro tangerang ...</td>\n",
       "      <td>0</td>\n",
       "      <td>0</td>\n",
       "      <td>ID3172</td>\n",
       "      <td>JAKARTA TIMUR</td>\n",
       "    </tr>\n",
       "    <tr>\n",
       "      <th>1</th>\n",
       "      <td>2021-08-14 14:53:42</td>\n",
       "      <td>dryxanne</td>\n",
       "      <td>Jakarta</td>\n",
       "      <td>NaN</td>\n",
       "      <td>abis tu kebangun  lsg brasa lrga cm mimpi   se...</td>\n",
       "      <td>0</td>\n",
       "      <td>0</td>\n",
       "      <td>ID3172</td>\n",
       "      <td>JAKARTA TIMUR</td>\n",
       "    </tr>\n",
       "    <tr>\n",
       "      <th>2</th>\n",
       "      <td>2021-08-14 14:53:24</td>\n",
       "      <td>bukanlucinta</td>\n",
       "      <td>Jakarta, Indonesia.</td>\n",
       "      <td>NaN</td>\n",
       "      <td>di bertanyarl loh bersyukur masih bisa dapet a...</td>\n",
       "      <td>0</td>\n",
       "      <td>0</td>\n",
       "      <td>ID3172</td>\n",
       "      <td>JAKARTA TIMUR</td>\n",
       "    </tr>\n",
       "    <tr>\n",
       "      <th>3</th>\n",
       "      <td>2021-08-14 14:53:09</td>\n",
       "      <td>mporatne</td>\n",
       "      <td>DKI Jakarta, Indonesia</td>\n",
       "      <td>NaN</td>\n",
       "      <td>di trianadewi td dipegangin pak bupati biar ti...</td>\n",
       "      <td>0</td>\n",
       "      <td>0</td>\n",
       "      <td>ID3172</td>\n",
       "      <td>JAKARTA TIMUR</td>\n",
       "    </tr>\n",
       "    <tr>\n",
       "      <th>4</th>\n",
       "      <td>2021-08-14 14:52:20</td>\n",
       "      <td>whopsy_opsy</td>\n",
       "      <td>Jakarta</td>\n",
       "      <td>NaN</td>\n",
       "      <td>buset abis vaksin gue makan muluu</td>\n",
       "      <td>0</td>\n",
       "      <td>0</td>\n",
       "      <td>ID3172</td>\n",
       "      <td>JAKARTA TIMUR</td>\n",
       "    </tr>\n",
       "  </tbody>\n",
       "</table>\n",
       "</div>"
      ],
      "text/plain": [
       "            created_at           user                        location  \\\n",
       "0  2021-08-14 14:53:43  restrotangkot  Jl. Daan Mogot No.5, Tangerang   \n",
       "1  2021-08-14 14:53:42       dryxanne                         Jakarta   \n",
       "2  2021-08-14 14:53:24   bukanlucinta             Jakarta, Indonesia.   \n",
       "3  2021-08-14 14:53:09       mporatne          DKI Jakarta, Indonesia   \n",
       "4  2021-08-14 14:52:20    whopsy_opsy                         Jakarta   \n",
       "\n",
       "  coordinates                                               text  \\\n",
       "0         NaN  jajaran polsek ciledug polres metro tangerang ...   \n",
       "1         NaN  abis tu kebangun  lsg brasa lrga cm mimpi   se...   \n",
       "2         NaN  di bertanyarl loh bersyukur masih bisa dapet a...   \n",
       "3         NaN  di trianadewi td dipegangin pak bupati biar ti...   \n",
       "4         NaN                  buset abis vaksin gue makan muluu   \n",
       "\n",
       "   retweet_count  favorite_count      id      nama_kota  \n",
       "0              0               0  ID3172  JAKARTA TIMUR  \n",
       "1              0               0  ID3172  JAKARTA TIMUR  \n",
       "2              0               0  ID3172  JAKARTA TIMUR  \n",
       "3              0               0  ID3172  JAKARTA TIMUR  \n",
       "4              0               0  ID3172  JAKARTA TIMUR  "
      ]
     },
     "execution_count": 20,
     "metadata": {},
     "output_type": "execute_result"
    }
   ],
   "source": [
    "raw['text'] = raw['text'].apply(remove_non_alphanumeric)\n",
    "raw.head()"
   ]
  },
  {
   "cell_type": "code",
   "execution_count": 21,
   "metadata": {
    "id": "4wuPQh6cRwM9"
   },
   "outputs": [],
   "source": [
    "raw['text'] = raw['text'].apply(delete_suffix_nya)"
   ]
  },
  {
   "cell_type": "code",
   "execution_count": 22,
   "metadata": {
    "id": "4fiLl27sR5xn"
   },
   "outputs": [
    {
     "data": {
      "text/html": [
       "<div>\n",
       "<style scoped>\n",
       "    .dataframe tbody tr th:only-of-type {\n",
       "        vertical-align: middle;\n",
       "    }\n",
       "\n",
       "    .dataframe tbody tr th {\n",
       "        vertical-align: top;\n",
       "    }\n",
       "\n",
       "    .dataframe thead th {\n",
       "        text-align: right;\n",
       "    }\n",
       "</style>\n",
       "<table border=\"1\" class=\"dataframe\">\n",
       "  <thead>\n",
       "    <tr style=\"text-align: right;\">\n",
       "      <th></th>\n",
       "      <th>created_at</th>\n",
       "      <th>user</th>\n",
       "      <th>location</th>\n",
       "      <th>coordinates</th>\n",
       "      <th>text</th>\n",
       "      <th>retweet_count</th>\n",
       "      <th>favorite_count</th>\n",
       "      <th>id</th>\n",
       "      <th>nama_kota</th>\n",
       "    </tr>\n",
       "  </thead>\n",
       "  <tbody>\n",
       "    <tr>\n",
       "      <th>0</th>\n",
       "      <td>2021-08-14 14:53:43</td>\n",
       "      <td>restrotangkot</td>\n",
       "      <td>Jl. Daan Mogot No.5, Tangerang</td>\n",
       "      <td>NaN</td>\n",
       "      <td>jajaran polsek ciledug polres metro tangerang ...</td>\n",
       "      <td>0</td>\n",
       "      <td>0</td>\n",
       "      <td>ID3172</td>\n",
       "      <td>JAKARTA TIMUR</td>\n",
       "    </tr>\n",
       "    <tr>\n",
       "      <th>1</th>\n",
       "      <td>2021-08-14 14:53:42</td>\n",
       "      <td>dryxanne</td>\n",
       "      <td>Jakarta</td>\n",
       "      <td>NaN</td>\n",
       "      <td>abis tu kebangun  lsg brasa lrga cm mimpi   se...</td>\n",
       "      <td>0</td>\n",
       "      <td>0</td>\n",
       "      <td>ID3172</td>\n",
       "      <td>JAKARTA TIMUR</td>\n",
       "    </tr>\n",
       "    <tr>\n",
       "      <th>2</th>\n",
       "      <td>2021-08-14 14:53:24</td>\n",
       "      <td>bukanlucinta</td>\n",
       "      <td>Jakarta, Indonesia.</td>\n",
       "      <td>NaN</td>\n",
       "      <td>di bertanyarl loh bersyukur masih bisa dapet a...</td>\n",
       "      <td>0</td>\n",
       "      <td>0</td>\n",
       "      <td>ID3172</td>\n",
       "      <td>JAKARTA TIMUR</td>\n",
       "    </tr>\n",
       "    <tr>\n",
       "      <th>3</th>\n",
       "      <td>2021-08-14 14:53:09</td>\n",
       "      <td>mporatne</td>\n",
       "      <td>DKI Jakarta, Indonesia</td>\n",
       "      <td>NaN</td>\n",
       "      <td>di trianadewi td dipegangin pak bupati biar ti...</td>\n",
       "      <td>0</td>\n",
       "      <td>0</td>\n",
       "      <td>ID3172</td>\n",
       "      <td>JAKARTA TIMUR</td>\n",
       "    </tr>\n",
       "    <tr>\n",
       "      <th>4</th>\n",
       "      <td>2021-08-14 14:52:20</td>\n",
       "      <td>whopsy_opsy</td>\n",
       "      <td>Jakarta</td>\n",
       "      <td>NaN</td>\n",
       "      <td>buset abis vaksin gue makan muluu</td>\n",
       "      <td>0</td>\n",
       "      <td>0</td>\n",
       "      <td>ID3172</td>\n",
       "      <td>JAKARTA TIMUR</td>\n",
       "    </tr>\n",
       "  </tbody>\n",
       "</table>\n",
       "</div>"
      ],
      "text/plain": [
       "            created_at           user                        location  \\\n",
       "0  2021-08-14 14:53:43  restrotangkot  Jl. Daan Mogot No.5, Tangerang   \n",
       "1  2021-08-14 14:53:42       dryxanne                         Jakarta   \n",
       "2  2021-08-14 14:53:24   bukanlucinta             Jakarta, Indonesia.   \n",
       "3  2021-08-14 14:53:09       mporatne          DKI Jakarta, Indonesia   \n",
       "4  2021-08-14 14:52:20    whopsy_opsy                         Jakarta   \n",
       "\n",
       "  coordinates                                               text  \\\n",
       "0         NaN  jajaran polsek ciledug polres metro tangerang ...   \n",
       "1         NaN  abis tu kebangun  lsg brasa lrga cm mimpi   se...   \n",
       "2         NaN  di bertanyarl loh bersyukur masih bisa dapet a...   \n",
       "3         NaN  di trianadewi td dipegangin pak bupati biar ti...   \n",
       "4         NaN                  buset abis vaksin gue makan muluu   \n",
       "\n",
       "   retweet_count  favorite_count      id      nama_kota  \n",
       "0              0               0  ID3172  JAKARTA TIMUR  \n",
       "1              0               0  ID3172  JAKARTA TIMUR  \n",
       "2              0               0  ID3172  JAKARTA TIMUR  \n",
       "3              0               0  ID3172  JAKARTA TIMUR  \n",
       "4              0               0  ID3172  JAKARTA TIMUR  "
      ]
     },
     "execution_count": 22,
     "metadata": {},
     "output_type": "execute_result"
    }
   ],
   "source": [
    "raw['text'] = raw['text'].apply(translate_angka)\n",
    "raw.head()"
   ]
  },
  {
   "cell_type": "code",
   "execution_count": 23,
   "metadata": {
    "id": "gN3WhWc1SCgw"
   },
   "outputs": [
    {
     "data": {
      "text/html": [
       "<div>\n",
       "<style scoped>\n",
       "    .dataframe tbody tr th:only-of-type {\n",
       "        vertical-align: middle;\n",
       "    }\n",
       "\n",
       "    .dataframe tbody tr th {\n",
       "        vertical-align: top;\n",
       "    }\n",
       "\n",
       "    .dataframe thead th {\n",
       "        text-align: right;\n",
       "    }\n",
       "</style>\n",
       "<table border=\"1\" class=\"dataframe\">\n",
       "  <thead>\n",
       "    <tr style=\"text-align: right;\">\n",
       "      <th></th>\n",
       "      <th>created_at</th>\n",
       "      <th>user</th>\n",
       "      <th>location</th>\n",
       "      <th>coordinates</th>\n",
       "      <th>text</th>\n",
       "      <th>retweet_count</th>\n",
       "      <th>favorite_count</th>\n",
       "      <th>id</th>\n",
       "      <th>nama_kota</th>\n",
       "    </tr>\n",
       "  </thead>\n",
       "  <tbody>\n",
       "    <tr>\n",
       "      <th>0</th>\n",
       "      <td>2021-08-14 14:53:43</td>\n",
       "      <td>restrotangkot</td>\n",
       "      <td>Jl. Daan Mogot No.5, Tangerang</td>\n",
       "      <td>NaN</td>\n",
       "      <td>jajaran polsek ciledug polres metro tangerang ...</td>\n",
       "      <td>0</td>\n",
       "      <td>0</td>\n",
       "      <td>ID3172</td>\n",
       "      <td>JAKARTA TIMUR</td>\n",
       "    </tr>\n",
       "    <tr>\n",
       "      <th>1</th>\n",
       "      <td>2021-08-14 14:53:42</td>\n",
       "      <td>dryxanne</td>\n",
       "      <td>Jakarta</td>\n",
       "      <td>NaN</td>\n",
       "      <td>abis tu kebangun lsg brasa lrga cm mimpi segit...</td>\n",
       "      <td>0</td>\n",
       "      <td>0</td>\n",
       "      <td>ID3172</td>\n",
       "      <td>JAKARTA TIMUR</td>\n",
       "    </tr>\n",
       "    <tr>\n",
       "      <th>2</th>\n",
       "      <td>2021-08-14 14:53:24</td>\n",
       "      <td>bukanlucinta</td>\n",
       "      <td>Jakarta, Indonesia.</td>\n",
       "      <td>NaN</td>\n",
       "      <td>di bertanyarl loh bersyukur masih bisa dapet a...</td>\n",
       "      <td>0</td>\n",
       "      <td>0</td>\n",
       "      <td>ID3172</td>\n",
       "      <td>JAKARTA TIMUR</td>\n",
       "    </tr>\n",
       "    <tr>\n",
       "      <th>3</th>\n",
       "      <td>2021-08-14 14:53:09</td>\n",
       "      <td>mporatne</td>\n",
       "      <td>DKI Jakarta, Indonesia</td>\n",
       "      <td>NaN</td>\n",
       "      <td>di trianadewi td dipegangin pak bupati biar ti...</td>\n",
       "      <td>0</td>\n",
       "      <td>0</td>\n",
       "      <td>ID3172</td>\n",
       "      <td>JAKARTA TIMUR</td>\n",
       "    </tr>\n",
       "    <tr>\n",
       "      <th>4</th>\n",
       "      <td>2021-08-14 14:52:20</td>\n",
       "      <td>whopsy_opsy</td>\n",
       "      <td>Jakarta</td>\n",
       "      <td>NaN</td>\n",
       "      <td>buset abis vaksin gue makan mulu</td>\n",
       "      <td>0</td>\n",
       "      <td>0</td>\n",
       "      <td>ID3172</td>\n",
       "      <td>JAKARTA TIMUR</td>\n",
       "    </tr>\n",
       "  </tbody>\n",
       "</table>\n",
       "</div>"
      ],
      "text/plain": [
       "            created_at           user                        location  \\\n",
       "0  2021-08-14 14:53:43  restrotangkot  Jl. Daan Mogot No.5, Tangerang   \n",
       "1  2021-08-14 14:53:42       dryxanne                         Jakarta   \n",
       "2  2021-08-14 14:53:24   bukanlucinta             Jakarta, Indonesia.   \n",
       "3  2021-08-14 14:53:09       mporatne          DKI Jakarta, Indonesia   \n",
       "4  2021-08-14 14:52:20    whopsy_opsy                         Jakarta   \n",
       "\n",
       "  coordinates                                               text  \\\n",
       "0         NaN  jajaran polsek ciledug polres metro tangerang ...   \n",
       "1         NaN  abis tu kebangun lsg brasa lrga cm mimpi segit...   \n",
       "2         NaN  di bertanyarl loh bersyukur masih bisa dapet a...   \n",
       "3         NaN  di trianadewi td dipegangin pak bupati biar ti...   \n",
       "4         NaN                   buset abis vaksin gue makan mulu   \n",
       "\n",
       "   retweet_count  favorite_count      id      nama_kota  \n",
       "0              0               0  ID3172  JAKARTA TIMUR  \n",
       "1              0               0  ID3172  JAKARTA TIMUR  \n",
       "2              0               0  ID3172  JAKARTA TIMUR  \n",
       "3              0               0  ID3172  JAKARTA TIMUR  \n",
       "4              0               0  ID3172  JAKARTA TIMUR  "
      ]
     },
     "execution_count": 23,
     "metadata": {},
     "output_type": "execute_result"
    }
   ],
   "source": [
    "raw['text'] = raw['text'].apply(normalizing_words)\n",
    "raw.head()"
   ]
  },
  {
   "cell_type": "code",
   "execution_count": 24,
   "metadata": {
    "id": "2XIFTZT0SGYP"
   },
   "outputs": [
    {
     "data": {
      "text/html": [
       "<div>\n",
       "<style scoped>\n",
       "    .dataframe tbody tr th:only-of-type {\n",
       "        vertical-align: middle;\n",
       "    }\n",
       "\n",
       "    .dataframe tbody tr th {\n",
       "        vertical-align: top;\n",
       "    }\n",
       "\n",
       "    .dataframe thead th {\n",
       "        text-align: right;\n",
       "    }\n",
       "</style>\n",
       "<table border=\"1\" class=\"dataframe\">\n",
       "  <thead>\n",
       "    <tr style=\"text-align: right;\">\n",
       "      <th></th>\n",
       "      <th>created_at</th>\n",
       "      <th>user</th>\n",
       "      <th>location</th>\n",
       "      <th>coordinates</th>\n",
       "      <th>text</th>\n",
       "      <th>retweet_count</th>\n",
       "      <th>favorite_count</th>\n",
       "      <th>id</th>\n",
       "      <th>nama_kota</th>\n",
       "    </tr>\n",
       "  </thead>\n",
       "  <tbody>\n",
       "    <tr>\n",
       "      <th>0</th>\n",
       "      <td>2021-08-14 14:53:43</td>\n",
       "      <td>restrotangkot</td>\n",
       "      <td>Jl. Daan Mogot No.5, Tangerang</td>\n",
       "      <td>NaN</td>\n",
       "      <td>[jajaran, polsek, ciledug, polres, metro, tang...</td>\n",
       "      <td>0</td>\n",
       "      <td>0</td>\n",
       "      <td>ID3172</td>\n",
       "      <td>JAKARTA TIMUR</td>\n",
       "    </tr>\n",
       "    <tr>\n",
       "      <th>1</th>\n",
       "      <td>2021-08-14 14:53:42</td>\n",
       "      <td>dryxanne</td>\n",
       "      <td>Jakarta</td>\n",
       "      <td>NaN</td>\n",
       "      <td>[habis, tu, kebangun, lsg, brasa, lrga, cuma, ...</td>\n",
       "      <td>0</td>\n",
       "      <td>0</td>\n",
       "      <td>ID3172</td>\n",
       "      <td>JAKARTA TIMUR</td>\n",
       "    </tr>\n",
       "    <tr>\n",
       "      <th>2</th>\n",
       "      <td>2021-08-14 14:53:24</td>\n",
       "      <td>bukanlucinta</td>\n",
       "      <td>Jakarta, Indonesia.</td>\n",
       "      <td>NaN</td>\n",
       "      <td>[di, bertanyarl, lho, bersyukur, masih, bisa, ...</td>\n",
       "      <td>0</td>\n",
       "      <td>0</td>\n",
       "      <td>ID3172</td>\n",
       "      <td>JAKARTA TIMUR</td>\n",
       "    </tr>\n",
       "    <tr>\n",
       "      <th>3</th>\n",
       "      <td>2021-08-14 14:53:09</td>\n",
       "      <td>mporatne</td>\n",
       "      <td>DKI Jakarta, Indonesia</td>\n",
       "      <td>NaN</td>\n",
       "      <td>[di, trianadewi, tadi, dipegangin, pak, bupati...</td>\n",
       "      <td>0</td>\n",
       "      <td>0</td>\n",
       "      <td>ID3172</td>\n",
       "      <td>JAKARTA TIMUR</td>\n",
       "    </tr>\n",
       "    <tr>\n",
       "      <th>4</th>\n",
       "      <td>2021-08-14 14:52:20</td>\n",
       "      <td>whopsy_opsy</td>\n",
       "      <td>Jakarta</td>\n",
       "      <td>NaN</td>\n",
       "      <td>[buset, habis, vaksin, aku, makan, melulu]</td>\n",
       "      <td>0</td>\n",
       "      <td>0</td>\n",
       "      <td>ID3172</td>\n",
       "      <td>JAKARTA TIMUR</td>\n",
       "    </tr>\n",
       "  </tbody>\n",
       "</table>\n",
       "</div>"
      ],
      "text/plain": [
       "            created_at           user                        location  \\\n",
       "0  2021-08-14 14:53:43  restrotangkot  Jl. Daan Mogot No.5, Tangerang   \n",
       "1  2021-08-14 14:53:42       dryxanne                         Jakarta   \n",
       "2  2021-08-14 14:53:24   bukanlucinta             Jakarta, Indonesia.   \n",
       "3  2021-08-14 14:53:09       mporatne          DKI Jakarta, Indonesia   \n",
       "4  2021-08-14 14:52:20    whopsy_opsy                         Jakarta   \n",
       "\n",
       "  coordinates                                               text  \\\n",
       "0         NaN  [jajaran, polsek, ciledug, polres, metro, tang...   \n",
       "1         NaN  [habis, tu, kebangun, lsg, brasa, lrga, cuma, ...   \n",
       "2         NaN  [di, bertanyarl, lho, bersyukur, masih, bisa, ...   \n",
       "3         NaN  [di, trianadewi, tadi, dipegangin, pak, bupati...   \n",
       "4         NaN         [buset, habis, vaksin, aku, makan, melulu]   \n",
       "\n",
       "   retweet_count  favorite_count      id      nama_kota  \n",
       "0              0               0  ID3172  JAKARTA TIMUR  \n",
       "1              0               0  ID3172  JAKARTA TIMUR  \n",
       "2              0               0  ID3172  JAKARTA TIMUR  \n",
       "3              0               0  ID3172  JAKARTA TIMUR  \n",
       "4              0               0  ID3172  JAKARTA TIMUR  "
      ]
     },
     "execution_count": 24,
     "metadata": {},
     "output_type": "execute_result"
    }
   ],
   "source": [
    "raw['text'] = raw['text'].apply(lambda x: x.split())\n",
    "raw['text'] = raw['text'].apply(lambda x: np.array(x))\n",
    "def mapping_slang_words(review):\n",
    "    return [slang_words[word] if word in slang_words else word for word in review]\n",
    "raw['text'] = raw['text'].apply(mapping_slang_words)\n",
    "raw.head()"
   ]
  },
  {
   "cell_type": "code",
   "execution_count": 25,
   "metadata": {
    "id": "MaPRQwuTVY4M"
   },
   "outputs": [
    {
     "data": {
      "text/html": [
       "<div>\n",
       "<style scoped>\n",
       "    .dataframe tbody tr th:only-of-type {\n",
       "        vertical-align: middle;\n",
       "    }\n",
       "\n",
       "    .dataframe tbody tr th {\n",
       "        vertical-align: top;\n",
       "    }\n",
       "\n",
       "    .dataframe thead th {\n",
       "        text-align: right;\n",
       "    }\n",
       "</style>\n",
       "<table border=\"1\" class=\"dataframe\">\n",
       "  <thead>\n",
       "    <tr style=\"text-align: right;\">\n",
       "      <th></th>\n",
       "      <th>created_at</th>\n",
       "      <th>user</th>\n",
       "      <th>location</th>\n",
       "      <th>coordinates</th>\n",
       "      <th>text</th>\n",
       "      <th>retweet_count</th>\n",
       "      <th>favorite_count</th>\n",
       "      <th>id</th>\n",
       "      <th>nama_kota</th>\n",
       "    </tr>\n",
       "  </thead>\n",
       "  <tbody>\n",
       "    <tr>\n",
       "      <th>0</th>\n",
       "      <td>2021-08-14 14:53:43</td>\n",
       "      <td>restrotangkot</td>\n",
       "      <td>Jl. Daan Mogot No.5, Tangerang</td>\n",
       "      <td>NaN</td>\n",
       "      <td>[jajaran, polsek, ciledug, polres, metro, tang...</td>\n",
       "      <td>0</td>\n",
       "      <td>0</td>\n",
       "      <td>ID3172</td>\n",
       "      <td>JAKARTA TIMUR</td>\n",
       "    </tr>\n",
       "    <tr>\n",
       "      <th>1</th>\n",
       "      <td>2021-08-14 14:53:42</td>\n",
       "      <td>dryxanne</td>\n",
       "      <td>Jakarta</td>\n",
       "      <td>NaN</td>\n",
       "      <td>[habis, tu, kebangun, lsg, brasa, lrga, cuma, ...</td>\n",
       "      <td>0</td>\n",
       "      <td>0</td>\n",
       "      <td>ID3172</td>\n",
       "      <td>JAKARTA TIMUR</td>\n",
       "    </tr>\n",
       "    <tr>\n",
       "      <th>2</th>\n",
       "      <td>2021-08-14 14:53:24</td>\n",
       "      <td>bukanlucinta</td>\n",
       "      <td>Jakarta, Indonesia.</td>\n",
       "      <td>NaN</td>\n",
       "      <td>[di, bertanyarl, lho, bersyukur, masih, bisa, ...</td>\n",
       "      <td>0</td>\n",
       "      <td>0</td>\n",
       "      <td>ID3172</td>\n",
       "      <td>JAKARTA TIMUR</td>\n",
       "    </tr>\n",
       "    <tr>\n",
       "      <th>3</th>\n",
       "      <td>2021-08-14 14:53:09</td>\n",
       "      <td>mporatne</td>\n",
       "      <td>DKI Jakarta, Indonesia</td>\n",
       "      <td>NaN</td>\n",
       "      <td>[di, trianadewi, tadi, dipegangin, pak, bupati...</td>\n",
       "      <td>0</td>\n",
       "      <td>0</td>\n",
       "      <td>ID3172</td>\n",
       "      <td>JAKARTA TIMUR</td>\n",
       "    </tr>\n",
       "    <tr>\n",
       "      <th>4</th>\n",
       "      <td>2021-08-14 14:52:20</td>\n",
       "      <td>whopsy_opsy</td>\n",
       "      <td>Jakarta</td>\n",
       "      <td>NaN</td>\n",
       "      <td>[buset, habis, vaksin, aku, makan, melulu]</td>\n",
       "      <td>0</td>\n",
       "      <td>0</td>\n",
       "      <td>ID3172</td>\n",
       "      <td>JAKARTA TIMUR</td>\n",
       "    </tr>\n",
       "  </tbody>\n",
       "</table>\n",
       "</div>"
      ],
      "text/plain": [
       "            created_at           user                        location  \\\n",
       "0  2021-08-14 14:53:43  restrotangkot  Jl. Daan Mogot No.5, Tangerang   \n",
       "1  2021-08-14 14:53:42       dryxanne                         Jakarta   \n",
       "2  2021-08-14 14:53:24   bukanlucinta             Jakarta, Indonesia.   \n",
       "3  2021-08-14 14:53:09       mporatne          DKI Jakarta, Indonesia   \n",
       "4  2021-08-14 14:52:20    whopsy_opsy                         Jakarta   \n",
       "\n",
       "  coordinates                                               text  \\\n",
       "0         NaN  [jajaran, polsek, ciledug, polres, metro, tang...   \n",
       "1         NaN  [habis, tu, kebangun, lsg, brasa, lrga, cuma, ...   \n",
       "2         NaN  [di, bertanyarl, lho, bersyukur, masih, bisa, ...   \n",
       "3         NaN  [di, trianadewi, tadi, dipegangin, pak, bupati...   \n",
       "4         NaN         [buset, habis, vaksin, aku, makan, melulu]   \n",
       "\n",
       "   retweet_count  favorite_count      id      nama_kota  \n",
       "0              0               0  ID3172  JAKARTA TIMUR  \n",
       "1              0               0  ID3172  JAKARTA TIMUR  \n",
       "2              0               0  ID3172  JAKARTA TIMUR  \n",
       "3              0               0  ID3172  JAKARTA TIMUR  \n",
       "4              0               0  ID3172  JAKARTA TIMUR  "
      ]
     },
     "execution_count": 25,
     "metadata": {},
     "output_type": "execute_result"
    }
   ],
   "source": [
    "raw.head()"
   ]
  },
  {
   "cell_type": "code",
   "execution_count": 26,
   "metadata": {
    "id": "yKmii6NwVeWi"
   },
   "outputs": [],
   "source": [
    "raw = raw.dropna(subset=['text'],how='all')\n",
    "raw = raw[raw['text'].map(len) > 0]\n",
    "def avg_word(words):\n",
    "  return (sum(len(word) for word in words)/len(words))\n",
    "\n",
    "raw['avg_word'] = raw['text'].apply(lambda x: avg_word(x))\n",
    "raw['word_count'] = raw['text'].map(len)"
   ]
  },
  {
   "cell_type": "code",
   "execution_count": 27,
   "metadata": {
    "id": "GT0V5ig_VkpU"
   },
   "outputs": [
    {
     "data": {
      "text/html": [
       "<div>\n",
       "<style scoped>\n",
       "    .dataframe tbody tr th:only-of-type {\n",
       "        vertical-align: middle;\n",
       "    }\n",
       "\n",
       "    .dataframe tbody tr th {\n",
       "        vertical-align: top;\n",
       "    }\n",
       "\n",
       "    .dataframe thead th {\n",
       "        text-align: right;\n",
       "    }\n",
       "</style>\n",
       "<table border=\"1\" class=\"dataframe\">\n",
       "  <thead>\n",
       "    <tr style=\"text-align: right;\">\n",
       "      <th></th>\n",
       "      <th>created_at</th>\n",
       "      <th>user</th>\n",
       "      <th>location</th>\n",
       "      <th>coordinates</th>\n",
       "      <th>text</th>\n",
       "      <th>retweet_count</th>\n",
       "      <th>favorite_count</th>\n",
       "      <th>id</th>\n",
       "      <th>nama_kota</th>\n",
       "      <th>avg_word</th>\n",
       "      <th>word_count</th>\n",
       "    </tr>\n",
       "  </thead>\n",
       "  <tbody>\n",
       "    <tr>\n",
       "      <th>0</th>\n",
       "      <td>2021-08-14 14:53:43</td>\n",
       "      <td>restrotangkot</td>\n",
       "      <td>Jl. Daan Mogot No.5, Tangerang</td>\n",
       "      <td>NaN</td>\n",
       "      <td>[jajaran, polsek, ciledug, polres, metro, tang...</td>\n",
       "      <td>0</td>\n",
       "      <td>0</td>\n",
       "      <td>ID3172</td>\n",
       "      <td>JAKARTA TIMUR</td>\n",
       "      <td>5.681818</td>\n",
       "      <td>22</td>\n",
       "    </tr>\n",
       "    <tr>\n",
       "      <th>1</th>\n",
       "      <td>2021-08-14 14:53:42</td>\n",
       "      <td>dryxanne</td>\n",
       "      <td>Jakarta</td>\n",
       "      <td>NaN</td>\n",
       "      <td>[habis, tu, kebangun, lsg, brasa, lrga, cuma, ...</td>\n",
       "      <td>0</td>\n",
       "      <td>0</td>\n",
       "      <td>ID3172</td>\n",
       "      <td>JAKARTA TIMUR</td>\n",
       "      <td>4.629630</td>\n",
       "      <td>27</td>\n",
       "    </tr>\n",
       "    <tr>\n",
       "      <th>2</th>\n",
       "      <td>2021-08-14 14:53:24</td>\n",
       "      <td>bukanlucinta</td>\n",
       "      <td>Jakarta, Indonesia.</td>\n",
       "      <td>NaN</td>\n",
       "      <td>[di, bertanyarl, lho, bersyukur, masih, bisa, ...</td>\n",
       "      <td>0</td>\n",
       "      <td>0</td>\n",
       "      <td>ID3172</td>\n",
       "      <td>JAKARTA TIMUR</td>\n",
       "      <td>5.200000</td>\n",
       "      <td>25</td>\n",
       "    </tr>\n",
       "    <tr>\n",
       "      <th>3</th>\n",
       "      <td>2021-08-14 14:53:09</td>\n",
       "      <td>mporatne</td>\n",
       "      <td>DKI Jakarta, Indonesia</td>\n",
       "      <td>NaN</td>\n",
       "      <td>[di, trianadewi, tadi, dipegangin, pak, bupati...</td>\n",
       "      <td>0</td>\n",
       "      <td>0</td>\n",
       "      <td>ID3172</td>\n",
       "      <td>JAKARTA TIMUR</td>\n",
       "      <td>5.181818</td>\n",
       "      <td>11</td>\n",
       "    </tr>\n",
       "    <tr>\n",
       "      <th>4</th>\n",
       "      <td>2021-08-14 14:52:20</td>\n",
       "      <td>whopsy_opsy</td>\n",
       "      <td>Jakarta</td>\n",
       "      <td>NaN</td>\n",
       "      <td>[buset, habis, vaksin, aku, makan, melulu]</td>\n",
       "      <td>0</td>\n",
       "      <td>0</td>\n",
       "      <td>ID3172</td>\n",
       "      <td>JAKARTA TIMUR</td>\n",
       "      <td>5.000000</td>\n",
       "      <td>6</td>\n",
       "    </tr>\n",
       "    <tr>\n",
       "      <th>...</th>\n",
       "      <td>...</td>\n",
       "      <td>...</td>\n",
       "      <td>...</td>\n",
       "      <td>...</td>\n",
       "      <td>...</td>\n",
       "      <td>...</td>\n",
       "      <td>...</td>\n",
       "      <td>...</td>\n",
       "      <td>...</td>\n",
       "      <td>...</td>\n",
       "      <td>...</td>\n",
       "    </tr>\n",
       "    <tr>\n",
       "      <th>14997</th>\n",
       "      <td>2021-08-13 5:41:58</td>\n",
       "      <td>dityaawahyu</td>\n",
       "      <td>Pamulang, Indonesia</td>\n",
       "      <td>NaN</td>\n",
       "      <td>[halo, kalau, ada, teman, sodara, atau, sekita...</td>\n",
       "      <td>3</td>\n",
       "      <td>1</td>\n",
       "      <td>ID3171</td>\n",
       "      <td>JAKARTA SELATAN</td>\n",
       "      <td>5.040000</td>\n",
       "      <td>25</td>\n",
       "    </tr>\n",
       "    <tr>\n",
       "      <th>17629</th>\n",
       "      <td>2021-08-13 19:45:00</td>\n",
       "      <td>dicxvlr</td>\n",
       "      <td>Tangerang, INDONESIA</td>\n",
       "      <td>NaN</td>\n",
       "      <td>[sakit, kepala, sekali, abs, vaksin]</td>\n",
       "      <td>0</td>\n",
       "      <td>0</td>\n",
       "      <td>ID3173</td>\n",
       "      <td>JAKARTA PUSAT</td>\n",
       "      <td>5.200000</td>\n",
       "      <td>5</td>\n",
       "    </tr>\n",
       "    <tr>\n",
       "      <th>19943</th>\n",
       "      <td>2021-08-13 5:01:52</td>\n",
       "      <td>vascodagambir</td>\n",
       "      <td>Cikarang, Indonesia</td>\n",
       "      <td>NaN</td>\n",
       "      <td>[di, helianthus, an, di, gringozika, iya, kan,...</td>\n",
       "      <td>0</td>\n",
       "      <td>0</td>\n",
       "      <td>ID3173</td>\n",
       "      <td>JAKARTA PUSAT</td>\n",
       "      <td>4.933333</td>\n",
       "      <td>15</td>\n",
       "    </tr>\n",
       "    <tr>\n",
       "      <th>19945</th>\n",
       "      <td>2021-08-13 5:01:25</td>\n",
       "      <td>rakapradana07</td>\n",
       "      <td>Jakarta Capital Region, Indonesia</td>\n",
       "      <td>NaN</td>\n",
       "      <td>[dari, kemarin, mencari, apakah, ada, badan, s...</td>\n",
       "      <td>0</td>\n",
       "      <td>0</td>\n",
       "      <td>ID3173</td>\n",
       "      <td>JAKARTA PUSAT</td>\n",
       "      <td>5.178571</td>\n",
       "      <td>28</td>\n",
       "    </tr>\n",
       "    <tr>\n",
       "      <th>19972</th>\n",
       "      <td>2021-08-13 4:49:59</td>\n",
       "      <td>volta17</td>\n",
       "      <td>Jagakarsa, Indonesia</td>\n",
       "      <td>NaN</td>\n",
       "      <td>[di, ekokuntadhi, memang, gabener, bisa, merus...</td>\n",
       "      <td>0</td>\n",
       "      <td>0</td>\n",
       "      <td>ID3173</td>\n",
       "      <td>JAKARTA PUSAT</td>\n",
       "      <td>5.937500</td>\n",
       "      <td>16</td>\n",
       "    </tr>\n",
       "  </tbody>\n",
       "</table>\n",
       "<p>5380 rows × 11 columns</p>\n",
       "</div>"
      ],
      "text/plain": [
       "                created_at           user                           location  \\\n",
       "0      2021-08-14 14:53:43  restrotangkot     Jl. Daan Mogot No.5, Tangerang   \n",
       "1      2021-08-14 14:53:42       dryxanne                            Jakarta   \n",
       "2      2021-08-14 14:53:24   bukanlucinta                Jakarta, Indonesia.   \n",
       "3      2021-08-14 14:53:09       mporatne             DKI Jakarta, Indonesia   \n",
       "4      2021-08-14 14:52:20    whopsy_opsy                            Jakarta   \n",
       "...                    ...            ...                                ...   \n",
       "14997   2021-08-13 5:41:58    dityaawahyu                Pamulang, Indonesia   \n",
       "17629  2021-08-13 19:45:00        dicxvlr               Tangerang, INDONESIA   \n",
       "19943   2021-08-13 5:01:52  vascodagambir                Cikarang, Indonesia   \n",
       "19945   2021-08-13 5:01:25  rakapradana07  Jakarta Capital Region, Indonesia   \n",
       "19972   2021-08-13 4:49:59        volta17               Jagakarsa, Indonesia   \n",
       "\n",
       "      coordinates                                               text  \\\n",
       "0             NaN  [jajaran, polsek, ciledug, polres, metro, tang...   \n",
       "1             NaN  [habis, tu, kebangun, lsg, brasa, lrga, cuma, ...   \n",
       "2             NaN  [di, bertanyarl, lho, bersyukur, masih, bisa, ...   \n",
       "3             NaN  [di, trianadewi, tadi, dipegangin, pak, bupati...   \n",
       "4             NaN         [buset, habis, vaksin, aku, makan, melulu]   \n",
       "...           ...                                                ...   \n",
       "14997         NaN  [halo, kalau, ada, teman, sodara, atau, sekita...   \n",
       "17629         NaN               [sakit, kepala, sekali, abs, vaksin]   \n",
       "19943         NaN  [di, helianthus, an, di, gringozika, iya, kan,...   \n",
       "19945         NaN  [dari, kemarin, mencari, apakah, ada, badan, s...   \n",
       "19972         NaN  [di, ekokuntadhi, memang, gabener, bisa, merus...   \n",
       "\n",
       "       retweet_count  favorite_count      id        nama_kota  avg_word  \\\n",
       "0                  0               0  ID3172    JAKARTA TIMUR  5.681818   \n",
       "1                  0               0  ID3172    JAKARTA TIMUR  4.629630   \n",
       "2                  0               0  ID3172    JAKARTA TIMUR  5.200000   \n",
       "3                  0               0  ID3172    JAKARTA TIMUR  5.181818   \n",
       "4                  0               0  ID3172    JAKARTA TIMUR  5.000000   \n",
       "...              ...             ...     ...              ...       ...   \n",
       "14997              3               1  ID3171  JAKARTA SELATAN  5.040000   \n",
       "17629              0               0  ID3173    JAKARTA PUSAT  5.200000   \n",
       "19943              0               0  ID3173    JAKARTA PUSAT  4.933333   \n",
       "19945              0               0  ID3173    JAKARTA PUSAT  5.178571   \n",
       "19972              0               0  ID3173    JAKARTA PUSAT  5.937500   \n",
       "\n",
       "       word_count  \n",
       "0              22  \n",
       "1              27  \n",
       "2              25  \n",
       "3              11  \n",
       "4               6  \n",
       "...           ...  \n",
       "14997          25  \n",
       "17629           5  \n",
       "19943          15  \n",
       "19945          28  \n",
       "19972          16  \n",
       "\n",
       "[5380 rows x 11 columns]"
      ]
     },
     "execution_count": 27,
     "metadata": {},
     "output_type": "execute_result"
    }
   ],
   "source": [
    "raw"
   ]
  },
  {
   "cell_type": "code",
   "execution_count": 28,
   "metadata": {
    "id": "xYS45SycWHNf"
   },
   "outputs": [],
   "source": [
    "raw.to_csv(\"data_tweet_vaksinasi_cleaned.csv\", index=False)"
   ]
  },
  {
   "cell_type": "markdown",
   "metadata": {
    "id": "0XtmZ0GZdiz-"
   },
   "source": [
    "# Data Cleaning V.2"
   ]
  },
  {
   "cell_type": "code",
   "execution_count": 29,
   "metadata": {
    "id": "yzexdHJaaHpC"
   },
   "outputs": [],
   "source": [
    "import pandas as pd\n",
    "import numpy as np\n",
    "import string\n",
    "import re\n",
    "from collections import Counter"
   ]
  },
  {
   "cell_type": "code",
   "execution_count": 31,
   "metadata": {
    "id": "CIij3FpubxLh"
   },
   "outputs": [],
   "source": [
    "raw = pd.read_csv( \"data_tweet_vaksinasi_cleaned.csv\")\n",
    "slang_words = pd.read_csv(\"data_support/kbba_ID.txt\",\n",
    "                        sep=\"\\t\", header=None)\n",
    "slang = pd.read_csv(\"data_support/slangword_ID.txt\",\n",
    "                        sep=\":\", header=None)\n",
    "baku_words = pd.read_csv(\"data_support/katabaku_ID.txt\",\n",
    "                        sep=\"|\", header=None)\n",
    "baku_words.columns = [1,0]\n",
    "slang_words = pd.concat([slang_words, slang, baku_words])"
   ]
  },
  {
   "cell_type": "code",
   "execution_count": 32,
   "metadata": {
    "colab": {
     "base_uri": "https://localhost:8080/"
    },
    "id": "s2GEQ1fFcbbK",
    "outputId": "e80d0105-a4d6-4507-da3c-dea5552965df"
   },
   "outputs": [
    {
     "name": "stdout",
     "output_type": "stream",
     "text": [
      "<class 'pandas.core.frame.DataFrame'>\n",
      "RangeIndex: 5380 entries, 0 to 5379\n",
      "Data columns (total 11 columns):\n",
      " #   Column          Non-Null Count  Dtype  \n",
      "---  ------          --------------  -----  \n",
      " 0   created_at      5380 non-null   object \n",
      " 1   user            5380 non-null   object \n",
      " 2   location        5291 non-null   object \n",
      " 3   coordinates     13 non-null     object \n",
      " 4   text            5380 non-null   object \n",
      " 5   retweet_count   5380 non-null   int64  \n",
      " 6   favorite_count  5380 non-null   int64  \n",
      " 7   id              5380 non-null   object \n",
      " 8   nama_kota       5380 non-null   object \n",
      " 9   avg_word        5380 non-null   float64\n",
      " 10  word_count      5380 non-null   int64  \n",
      "dtypes: float64(1), int64(3), object(7)\n",
      "memory usage: 462.5+ KB\n",
      "None\n"
     ]
    }
   ],
   "source": [
    "slang_words.drop_duplicates(inplace=True)\n",
    "slang_words = dict(zip(slang_words[0],slang_words[1]))\n",
    "print(raw.info())"
   ]
  },
  {
   "cell_type": "code",
   "execution_count": 33,
   "metadata": {
    "id": "qVPb-AW4cgf9"
   },
   "outputs": [],
   "source": [
    "def remove_numeric(review):\n",
    "    return re.sub(\"\\d\",\" \", review)\n",
    "\n",
    "raw['text'] = raw['text'].apply(remove_numeric)"
   ]
  },
  {
   "cell_type": "code",
   "execution_count": 34,
   "metadata": {
    "colab": {
     "base_uri": "https://localhost:8080/"
    },
    "id": "MrmFDoSVc3r7",
    "outputId": "147e1f48-bed3-4a5d-8af8-4c7bf72e6029"
   },
   "outputs": [
    {
     "data": {
      "text/plain": [
       "0       [jajaran,, polsek,, ciledug,, polres,, metro,,...\n",
       "1       [habis,, tu,, kebangun,, lsg,, brasa,, lrga,, ...\n",
       "2       [di,, bertanyarl,, lho,, bersyukur,, masih,, b...\n",
       "3       [di,, trianadewi,, tadi,, dipegangin,, pak,, b...\n",
       "4         [buset,, habis,, vaksin,, aku,, makan,, melulu]\n",
       "                              ...                        \n",
       "5375    [halo,, kalau,, ada,, teman,, sodara,, atau,, ...\n",
       "5376             [sakit,, kepala,, sekali,, abs,, vaksin]\n",
       "5377    [di,, helianthus,, an,, di,, gringozika,, iya,...\n",
       "5378    [dari,, kemarin,, mencari,, apakah,, ada,, bad...\n",
       "5379    [di,, ekokuntadhi,, memang,, gabener,, bisa,, ...\n",
       "Name: text, Length: 5380, dtype: object"
      ]
     },
     "execution_count": 34,
     "metadata": {},
     "output_type": "execute_result"
    }
   ],
   "source": [
    "def csv_string_to_list(csv_string):\n",
    "    return csv_string[1:-1].split()\n",
    "\n",
    "def string_without_quotes(word_list):\n",
    "    new  = []\n",
    "    for word in word_list:\n",
    "        new.append(word.replace(\"'\",\"\"))\n",
    "    return new\n",
    "\n",
    "def delete_suffix_nya(review):\n",
    "    return re.sub(\"(?:nya|ny)[$|\\s]\",\" \",review)\n",
    "    \n",
    "raw['text'] = raw['text'].apply(delete_suffix_nya)\n",
    "raw['text']  = raw['text'].apply(csv_string_to_list)\n",
    "raw['text']  = raw['text'].apply(string_without_quotes)\n",
    "raw['text'] "
   ]
  },
  {
   "cell_type": "code",
   "execution_count": 35,
   "metadata": {
    "colab": {
     "base_uri": "https://localhost:8080/"
    },
    "id": "owtymhWJc7AW",
    "outputId": "c7e5a0b9-9998-414f-cf22-9781b82aa3dd"
   },
   "outputs": [
    {
     "data": {
      "text/plain": [
       "0       [jajaran,, polsek,, ciledug,, polres,, metro,,...\n",
       "1       [habis,, tu,, kebangun,, lsg,, brasa,, lrga,, ...\n",
       "2       [di,, bertanyarl,, lho,, bersyukur,, masih,, b...\n",
       "3       [di,, trianadewi,, tadi,, dipegangin,, pak,, b...\n",
       "4         [buset,, habis,, vaksin,, aku,, makan,, melulu]\n",
       "                              ...                        \n",
       "5375    [halo,, kalau,, ada,, teman,, sodara,, atau,, ...\n",
       "5376             [sakit,, kepala,, sekali,, abs,, vaksin]\n",
       "5377    [di,, helianthus,, an,, di,, gringozika,, iya,...\n",
       "5378    [dari,, kemarin,, mencari,, apakah,, ada,, bad...\n",
       "5379    [di,, ekokuntadhi,, memang,, gabener,, bisa,, ...\n",
       "Name: text, Length: 5380, dtype: object"
      ]
     },
     "execution_count": 35,
     "metadata": {},
     "output_type": "execute_result"
    }
   ],
   "source": [
    "def mapping_slang_words(review):\n",
    "    return [slang_words[word] if word in slang_words else word for word in review]\n",
    "raw['text'] = raw['text'].apply(mapping_slang_words)\n",
    "raw['text']"
   ]
  },
  {
   "cell_type": "code",
   "execution_count": 36,
   "metadata": {
    "id": "zp_gRcECdCgv"
   },
   "outputs": [],
   "source": [
    "def remove_single_alphabet_only(review):\n",
    "    return [word for word in review if word not in string.ascii_lowercase]\n",
    "\n",
    "def remove_too_short_words(review):\n",
    "    return [word for word in review if len(word) > 2]\n",
    "raw['text'] = raw['text'].apply(remove_single_alphabet_only)\n",
    "raw['text'] = raw['text'].apply(remove_too_short_words)"
   ]
  },
  {
   "cell_type": "code",
   "execution_count": 37,
   "metadata": {
    "id": "ZqT94mAKdIH5"
   },
   "outputs": [],
   "source": [
    "raw = raw.dropna(subset=['text'],how='all')\n",
    "raw = raw[raw['text'].map(len) > 0]\n",
    "raw['word_count'] = raw['text'].map(len)\n",
    "def convert_list_to_string(word_list):\n",
    "    return \",\".join(word_list)\n",
    "raw['text'] = raw['text'].apply(convert_list_to_string)\n",
    "raw = raw.dropna(subset=['text'],how='all')\n",
    "raw = raw[raw['text'].map(len) > 0]"
   ]
  },
  {
   "cell_type": "code",
   "execution_count": 38,
   "metadata": {
    "id": "K9u9w2mRdLUB"
   },
   "outputs": [],
   "source": [
    "def avg_word(words):\n",
    "  return (sum(len(word) for word in words)/len(words))\n",
    "\n",
    "raw['avg_word'] = raw['text'].apply(lambda x: avg_word(x.split(\",\")))"
   ]
  },
  {
   "cell_type": "code",
   "execution_count": 39,
   "metadata": {
    "id": "pXudacPfdOMB"
   },
   "outputs": [],
   "source": [
    "raw.to_csv(\"data_tweet_vaksinasi_cleaned_v2.csv\", index=False)"
   ]
  },
  {
   "cell_type": "markdown",
   "metadata": {
    "id": "8Exnx6WWdrHs"
   },
   "source": [
    "# Final Pre-processing & Stemming"
   ]
  },
  {
   "cell_type": "code",
   "execution_count": 40,
   "metadata": {
    "id": "TlfeLJibdvdf"
   },
   "outputs": [],
   "source": [
    "import pandas as pd\n",
    "import numpy as np\n",
    "import string\n",
    "import re\n",
    "from collections import Counter"
   ]
  },
  {
   "cell_type": "code",
   "execution_count": 41,
   "metadata": {
    "id": "99dJGt6VdzB7"
   },
   "outputs": [],
   "source": [
    "raw = pd.read_csv( \"data_tweet_vaksinasi_cleaned_v2.csv\")\n",
    "slang_words = pd.read_csv(\"data_support/kbba_ID.txt\",\n",
    "                        sep=\"\\t\", header=None)\n",
    "slang = pd.read_csv(\"data_support/slangword_ID.txt\",\n",
    "                        sep=\":\", header=None)\n",
    "baku_words = pd.read_csv(\"data_support/katabaku_ID.txt\",\n",
    "                        sep=\"|\", header=None)\n",
    "baku_words.columns = [1,0]\n",
    "slang_words = pd.concat([slang_words, slang, baku_words])"
   ]
  },
  {
   "cell_type": "code",
   "execution_count": 42,
   "metadata": {
    "id": "RSVaIWOAeheY"
   },
   "outputs": [],
   "source": [
    "slang_words.drop_duplicates(inplace=True)\n",
    "slang_words = dict(zip(slang_words[0],slang_words[1]))\n",
    "raw['text'] = raw['text'].apply(lambda x: x.replace(\",\",\" \"))\n",
    "def delete_suffix_nya(review):\n",
    "    return re.sub(\"(?:nya|ny|y)[$|\\s]\",\" \",review)\n",
    "    \n",
    "raw['text'] = raw['text'].apply(delete_suffix_nya)\n",
    "raw['text'] = raw['text'].apply(lambda x: x.split())"
   ]
  },
  {
   "cell_type": "code",
   "execution_count": 43,
   "metadata": {
    "id": "BU_8xlujejq3"
   },
   "outputs": [],
   "source": [
    "def mapping_slang_words(review):\n",
    "    return [slang_words[word] if word in slang_words else word for word in review]\n",
    "raw['text'] = raw['text'].apply(mapping_slang_words)"
   ]
  },
  {
   "cell_type": "code",
   "execution_count": 44,
   "metadata": {
    "id": "O-LoJelXemWD"
   },
   "outputs": [],
   "source": [
    "def convert_list_to_string(word_list):\n",
    "    return \",\".join(word_list)\n",
    "raw['text'] = raw['text'].apply(convert_list_to_string)\n",
    "raw = raw.dropna(subset=['text'],how='all')\n",
    "raw = raw[raw['text'].map(len) > 0]"
   ]
  },
  {
   "cell_type": "code",
   "execution_count": 45,
   "metadata": {
    "id": "OgdIqOi_epHr"
   },
   "outputs": [],
   "source": [
    "def avg_word(words):\n",
    "  return (sum(len(word) for word in words)/len(words))\n",
    "\n",
    "raw['avg_word'] = raw['text'].apply(lambda x: avg_word(x.split(\",\")))"
   ]
  },
  {
   "cell_type": "code",
   "execution_count": 46,
   "metadata": {
    "id": "zYHLOrHoexZb"
   },
   "outputs": [],
   "source": [
    "raw.to_csv(\"data_tweet_vaksinasi_cleaned_pure.csv\", index=False)"
   ]
  },
  {
   "cell_type": "code",
   "execution_count": 47,
   "metadata": {
    "id": "kXf23FQ3e5Gq"
   },
   "outputs": [],
   "source": [
    "stop_words = np.array(pd.read_csv(\"data_support/stopwords_ID.txt\",\n",
    "                        sep=\"\\n\", header=None).values)\n",
    "neg_words = np.array(pd.read_csv(\"data_support/negative_keyword_ID.txt\",\n",
    "                        sep=\"\\n\", header=None).values)\n",
    "pos_words = np.array(pd.read_csv(\"data_support/positive_keyword_ID.txt\",\n",
    "                        sep=\"\\n\", header=None).values)\n",
    "booster_words = np.array(pd.read_csv(\"data_support/boosterword_ID.txt\",\n",
    "                        sep=\"\\n\", header=None).values)\n",
    "sentiment_words = np.concatenate((pos_words, neg_words, booster_words))\n",
    "stop_words = np.reshape(stop_words, -1)"
   ]
  },
  {
   "cell_type": "code",
   "execution_count": 48,
   "metadata": {
    "id": "EXC6pwOmfE91"
   },
   "outputs": [],
   "source": [
    "raw.head()\n",
    "raw['text'] = raw['text'].apply(lambda x: x.split(\",\"))"
   ]
  },
  {
   "cell_type": "code",
   "execution_count": 49,
   "metadata": {
    "id": "T_dpze-hfJWv"
   },
   "outputs": [],
   "source": [
    "from sklearn.feature_extraction.text import TfidfVectorizer\n",
    "vectorizer = TfidfVectorizer(tokenizer=lambda doc: doc, lowercase=False)\n",
    "tvec_weights = vectorizer.fit_transform(raw['text'])\n",
    "weights = np.asarray(tvec_weights.mean(axis=0)).ravel().tolist()\n",
    "weights_df = pd.DataFrame({'term': vectorizer.get_feature_names(), 'weight': weights})\n",
    "weights_df = weights_df.sort_values(by='weight', ascending=False)\n",
    "domain_spesific_stop_words = np.array(weights_df['term'][:200].values)\n",
    "stop_words = np.concatenate((domain_spesific_stop_words,stop_words[:,]))\n",
    "stop_words = [word for word in stop_words if word not in sentiment_words]\n",
    "stop_words = np.unique(stop_words)"
   ]
  },
  {
   "cell_type": "code",
   "execution_count": 50,
   "metadata": {
    "colab": {
     "base_uri": "https://localhost:8080/",
     "height": 204
    },
    "id": "4gsXHfY-fMgi",
    "outputId": "000d2261-b883-4b63-fd3c-9af2111f5adf"
   },
   "outputs": [
    {
     "data": {
      "text/html": [
       "<div>\n",
       "<style scoped>\n",
       "    .dataframe tbody tr th:only-of-type {\n",
       "        vertical-align: middle;\n",
       "    }\n",
       "\n",
       "    .dataframe tbody tr th {\n",
       "        vertical-align: top;\n",
       "    }\n",
       "\n",
       "    .dataframe thead th {\n",
       "        text-align: right;\n",
       "    }\n",
       "</style>\n",
       "<table border=\"1\" class=\"dataframe\">\n",
       "  <thead>\n",
       "    <tr style=\"text-align: right;\">\n",
       "      <th></th>\n",
       "      <th>created_at</th>\n",
       "      <th>user</th>\n",
       "      <th>location</th>\n",
       "      <th>coordinates</th>\n",
       "      <th>text</th>\n",
       "      <th>retweet_count</th>\n",
       "      <th>favorite_count</th>\n",
       "      <th>id</th>\n",
       "      <th>nama_kota</th>\n",
       "      <th>avg_word</th>\n",
       "      <th>word_count</th>\n",
       "    </tr>\n",
       "  </thead>\n",
       "  <tbody>\n",
       "    <tr>\n",
       "      <th>0</th>\n",
       "      <td>2021-08-14 14:53:43</td>\n",
       "      <td>restrotangkot</td>\n",
       "      <td>Jl. Daan Mogot No.5, Tangerang</td>\n",
       "      <td>NaN</td>\n",
       "      <td>[jajaran, polsek, ciledug, polres, metro, tang...</td>\n",
       "      <td>0</td>\n",
       "      <td>0</td>\n",
       "      <td>ID3172</td>\n",
       "      <td>JAKARTA TIMUR</td>\n",
       "      <td>5.904762</td>\n",
       "      <td>21</td>\n",
       "    </tr>\n",
       "    <tr>\n",
       "      <th>1</th>\n",
       "      <td>2021-08-14 14:53:42</td>\n",
       "      <td>dryxanne</td>\n",
       "      <td>Jakarta</td>\n",
       "      <td>NaN</td>\n",
       "      <td>[habis, tu, kebangun, lsg, brasa, lrga, hanya,...</td>\n",
       "      <td>0</td>\n",
       "      <td>0</td>\n",
       "      <td>ID3172</td>\n",
       "      <td>JAKARTA TIMUR</td>\n",
       "      <td>4.807692</td>\n",
       "      <td>26</td>\n",
       "    </tr>\n",
       "    <tr>\n",
       "      <th>2</th>\n",
       "      <td>2021-08-14 14:53:24</td>\n",
       "      <td>bukanlucinta</td>\n",
       "      <td>Jakarta, Indonesia.</td>\n",
       "      <td>NaN</td>\n",
       "      <td>[bertanyarl, lho, bersyukur, bisa, astra, bera...</td>\n",
       "      <td>0</td>\n",
       "      <td>0</td>\n",
       "      <td>ID3172</td>\n",
       "      <td>JAKARTA TIMUR</td>\n",
       "      <td>5.375000</td>\n",
       "      <td>24</td>\n",
       "    </tr>\n",
       "    <tr>\n",
       "      <th>3</th>\n",
       "      <td>2021-08-14 14:53:09</td>\n",
       "      <td>mporatne</td>\n",
       "      <td>DKI Jakarta, Indonesia</td>\n",
       "      <td>NaN</td>\n",
       "      <td>[trianadewi, dipegangin, bupati, biar, tidak, ...</td>\n",
       "      <td>0</td>\n",
       "      <td>0</td>\n",
       "      <td>ID3172</td>\n",
       "      <td>JAKARTA TIMUR</td>\n",
       "      <td>5.181818</td>\n",
       "      <td>11</td>\n",
       "    </tr>\n",
       "    <tr>\n",
       "      <th>4</th>\n",
       "      <td>2021-08-14 14:52:20</td>\n",
       "      <td>whopsy_opsy</td>\n",
       "      <td>Jakarta</td>\n",
       "      <td>NaN</td>\n",
       "      <td>[buset, habis, makan, melulu]</td>\n",
       "      <td>0</td>\n",
       "      <td>0</td>\n",
       "      <td>ID3172</td>\n",
       "      <td>JAKARTA TIMUR</td>\n",
       "      <td>5.000000</td>\n",
       "      <td>6</td>\n",
       "    </tr>\n",
       "  </tbody>\n",
       "</table>\n",
       "</div>"
      ],
      "text/plain": [
       "            created_at           user                        location  \\\n",
       "0  2021-08-14 14:53:43  restrotangkot  Jl. Daan Mogot No.5, Tangerang   \n",
       "1  2021-08-14 14:53:42       dryxanne                         Jakarta   \n",
       "2  2021-08-14 14:53:24   bukanlucinta             Jakarta, Indonesia.   \n",
       "3  2021-08-14 14:53:09       mporatne          DKI Jakarta, Indonesia   \n",
       "4  2021-08-14 14:52:20    whopsy_opsy                         Jakarta   \n",
       "\n",
       "  coordinates                                               text  \\\n",
       "0         NaN  [jajaran, polsek, ciledug, polres, metro, tang...   \n",
       "1         NaN  [habis, tu, kebangun, lsg, brasa, lrga, hanya,...   \n",
       "2         NaN  [bertanyarl, lho, bersyukur, bisa, astra, bera...   \n",
       "3         NaN  [trianadewi, dipegangin, bupati, biar, tidak, ...   \n",
       "4         NaN                      [buset, habis, makan, melulu]   \n",
       "\n",
       "   retweet_count  favorite_count      id      nama_kota  avg_word  word_count  \n",
       "0              0               0  ID3172  JAKARTA TIMUR  5.904762          21  \n",
       "1              0               0  ID3172  JAKARTA TIMUR  4.807692          26  \n",
       "2              0               0  ID3172  JAKARTA TIMUR  5.375000          24  \n",
       "3              0               0  ID3172  JAKARTA TIMUR  5.181818          11  \n",
       "4              0               0  ID3172  JAKARTA TIMUR  5.000000           6  "
      ]
     },
     "execution_count": 50,
     "metadata": {},
     "output_type": "execute_result"
    }
   ],
   "source": [
    "def remove_stop_words(word_list):\n",
    "    return [word for word in word_list if word not in stop_words]\n",
    "raw['text'] = raw['text'].apply(remove_stop_words)\n",
    "raw.head()"
   ]
  },
  {
   "cell_type": "code",
   "execution_count": null,
   "metadata": {
    "id": "f9Ce9ne_fgjk"
   },
   "outputs": [],
   "source": [
    "raw = raw.dropna(subset=['text'],how='all')\n",
    "raw = raw[raw['text'].map(len) > 0]\n",
    "def avg_word(words):\n",
    "  return (sum(len(word) for word in words)/len(words))\n",
    "\n",
    "raw['avg_word'] = raw['text'].apply(lambda x: avg_word(x))\n",
    "raw['word_count'] = raw['text'].map(len)\n",
    "raw['review'] = raw['text'].apply(convert_list_to_string)"
   ]
  },
  {
   "cell_type": "code",
   "execution_count": 51,
   "metadata": {
    "id": "FqUyRjssfmWF"
   },
   "outputs": [],
   "source": [
    "raw.to_csv(\"data_tweet_vaksinasi_cleaned_stop_removed.csv\", index=False)"
   ]
  },
  {
   "cell_type": "markdown",
   "metadata": {
    "id": "ZQEEbS2YfvHl"
   },
   "source": [
    "#Stemming with Sastrawi\n",
    "Stemming is basically removing the suffix from a word and reduce it to its root word.\n",
    "For example: “Flying” is a word and its suffix is “ing”, if we remove “ing” from “Flying” then we will get base word or root word which is “Fly”."
   ]
  },
  {
   "cell_type": "code",
   "execution_count": 52,
   "metadata": {
    "id": "IBhc6xRLgKYI"
   },
   "outputs": [],
   "source": [
    "\n",
    "import pandas as pd\n",
    "import numpy as np\n",
    "import string\n",
    "import re\n",
    "from collections import Counter"
   ]
  },
  {
   "cell_type": "code",
   "execution_count": 53,
   "metadata": {
    "id": "HGPDq5uggOf8"
   },
   "outputs": [],
   "source": [
    "raw = pd.read_csv( \"data_tweet_vaksinasi_cleaned_stop_removed.csv\")"
   ]
  },
  {
   "cell_type": "code",
   "execution_count": 54,
   "metadata": {
    "colab": {
     "base_uri": "https://localhost:8080/"
    },
    "id": "0c9sUK8xhFVW",
    "outputId": "a8b6e129-1735-4c11-98c8-0cd7b204a35e"
   },
   "outputs": [
    {
     "name": "stdout",
     "output_type": "stream",
     "text": [
      "<class 'pandas.core.frame.DataFrame'>\n",
      "RangeIndex: 5380 entries, 0 to 5379\n",
      "Data columns (total 11 columns):\n",
      " #   Column          Non-Null Count  Dtype  \n",
      "---  ------          --------------  -----  \n",
      " 0   created_at      5380 non-null   object \n",
      " 1   user            5380 non-null   object \n",
      " 2   location        5291 non-null   object \n",
      " 3   coordinates     13 non-null     object \n",
      " 4   text            5380 non-null   object \n",
      " 5   retweet_count   5380 non-null   int64  \n",
      " 6   favorite_count  5380 non-null   int64  \n",
      " 7   id              5380 non-null   object \n",
      " 8   nama_kota       5380 non-null   object \n",
      " 9   avg_word        5380 non-null   float64\n",
      " 10  word_count      5380 non-null   int64  \n",
      "dtypes: float64(1), int64(3), object(7)\n",
      "memory usage: 462.5+ KB\n",
      "None\n"
     ]
    }
   ],
   "source": [
    "print(raw.info())"
   ]
  },
  {
   "cell_type": "code",
   "execution_count": 55,
   "metadata": {
    "colab": {
     "base_uri": "https://localhost:8080/",
     "height": 204
    },
    "id": "RuC8KxHnhMH-",
    "outputId": "20d66675-b379-419f-df58-0a1ee1936eec"
   },
   "outputs": [
    {
     "data": {
      "text/html": [
       "<div>\n",
       "<style scoped>\n",
       "    .dataframe tbody tr th:only-of-type {\n",
       "        vertical-align: middle;\n",
       "    }\n",
       "\n",
       "    .dataframe tbody tr th {\n",
       "        vertical-align: top;\n",
       "    }\n",
       "\n",
       "    .dataframe thead th {\n",
       "        text-align: right;\n",
       "    }\n",
       "</style>\n",
       "<table border=\"1\" class=\"dataframe\">\n",
       "  <thead>\n",
       "    <tr style=\"text-align: right;\">\n",
       "      <th></th>\n",
       "      <th>created_at</th>\n",
       "      <th>user</th>\n",
       "      <th>location</th>\n",
       "      <th>coordinates</th>\n",
       "      <th>text</th>\n",
       "      <th>retweet_count</th>\n",
       "      <th>favorite_count</th>\n",
       "      <th>id</th>\n",
       "      <th>nama_kota</th>\n",
       "      <th>avg_word</th>\n",
       "      <th>word_count</th>\n",
       "    </tr>\n",
       "  </thead>\n",
       "  <tbody>\n",
       "    <tr>\n",
       "      <th>0</th>\n",
       "      <td>2021-08-14 14:53:43</td>\n",
       "      <td>restrotangkot</td>\n",
       "      <td>Jl. Daan Mogot No.5, Tangerang</td>\n",
       "      <td>NaN</td>\n",
       "      <td>['jajaran', 'polsek', 'ciledug', 'polres', 'me...</td>\n",
       "      <td>0</td>\n",
       "      <td>0</td>\n",
       "      <td>ID3172</td>\n",
       "      <td>JAKARTA TIMUR</td>\n",
       "      <td>5.904762</td>\n",
       "      <td>21</td>\n",
       "    </tr>\n",
       "    <tr>\n",
       "      <th>1</th>\n",
       "      <td>2021-08-14 14:53:42</td>\n",
       "      <td>dryxanne</td>\n",
       "      <td>Jakarta</td>\n",
       "      <td>NaN</td>\n",
       "      <td>['habis', 'tu', 'kebangun', 'lsg', 'brasa', 'l...</td>\n",
       "      <td>0</td>\n",
       "      <td>0</td>\n",
       "      <td>ID3172</td>\n",
       "      <td>JAKARTA TIMUR</td>\n",
       "      <td>4.807692</td>\n",
       "      <td>26</td>\n",
       "    </tr>\n",
       "    <tr>\n",
       "      <th>2</th>\n",
       "      <td>2021-08-14 14:53:24</td>\n",
       "      <td>bukanlucinta</td>\n",
       "      <td>Jakarta, Indonesia.</td>\n",
       "      <td>NaN</td>\n",
       "      <td>['bertanyarl', 'lho', 'bersyukur', 'bisa', 'as...</td>\n",
       "      <td>0</td>\n",
       "      <td>0</td>\n",
       "      <td>ID3172</td>\n",
       "      <td>JAKARTA TIMUR</td>\n",
       "      <td>5.375000</td>\n",
       "      <td>24</td>\n",
       "    </tr>\n",
       "    <tr>\n",
       "      <th>3</th>\n",
       "      <td>2021-08-14 14:53:09</td>\n",
       "      <td>mporatne</td>\n",
       "      <td>DKI Jakarta, Indonesia</td>\n",
       "      <td>NaN</td>\n",
       "      <td>['trianadewi', 'dipegangin', 'bupati', 'biar',...</td>\n",
       "      <td>0</td>\n",
       "      <td>0</td>\n",
       "      <td>ID3172</td>\n",
       "      <td>JAKARTA TIMUR</td>\n",
       "      <td>5.181818</td>\n",
       "      <td>11</td>\n",
       "    </tr>\n",
       "    <tr>\n",
       "      <th>4</th>\n",
       "      <td>2021-08-14 14:52:20</td>\n",
       "      <td>whopsy_opsy</td>\n",
       "      <td>Jakarta</td>\n",
       "      <td>NaN</td>\n",
       "      <td>['buset', 'habis', 'makan', 'melulu']</td>\n",
       "      <td>0</td>\n",
       "      <td>0</td>\n",
       "      <td>ID3172</td>\n",
       "      <td>JAKARTA TIMUR</td>\n",
       "      <td>5.000000</td>\n",
       "      <td>6</td>\n",
       "    </tr>\n",
       "  </tbody>\n",
       "</table>\n",
       "</div>"
      ],
      "text/plain": [
       "            created_at           user                        location  \\\n",
       "0  2021-08-14 14:53:43  restrotangkot  Jl. Daan Mogot No.5, Tangerang   \n",
       "1  2021-08-14 14:53:42       dryxanne                         Jakarta   \n",
       "2  2021-08-14 14:53:24   bukanlucinta             Jakarta, Indonesia.   \n",
       "3  2021-08-14 14:53:09       mporatne          DKI Jakarta, Indonesia   \n",
       "4  2021-08-14 14:52:20    whopsy_opsy                         Jakarta   \n",
       "\n",
       "  coordinates                                               text  \\\n",
       "0         NaN  ['jajaran', 'polsek', 'ciledug', 'polres', 'me...   \n",
       "1         NaN  ['habis', 'tu', 'kebangun', 'lsg', 'brasa', 'l...   \n",
       "2         NaN  ['bertanyarl', 'lho', 'bersyukur', 'bisa', 'as...   \n",
       "3         NaN  ['trianadewi', 'dipegangin', 'bupati', 'biar',...   \n",
       "4         NaN              ['buset', 'habis', 'makan', 'melulu']   \n",
       "\n",
       "   retweet_count  favorite_count      id      nama_kota  avg_word  word_count  \n",
       "0              0               0  ID3172  JAKARTA TIMUR  5.904762          21  \n",
       "1              0               0  ID3172  JAKARTA TIMUR  4.807692          26  \n",
       "2              0               0  ID3172  JAKARTA TIMUR  5.375000          24  \n",
       "3              0               0  ID3172  JAKARTA TIMUR  5.181818          11  \n",
       "4              0               0  ID3172  JAKARTA TIMUR  5.000000           6  "
      ]
     },
     "execution_count": 55,
     "metadata": {},
     "output_type": "execute_result"
    }
   ],
   "source": [
    "raw.head()"
   ]
  },
  {
   "cell_type": "code",
   "execution_count": 56,
   "metadata": {
    "id": "fNYrxeT3hPlc"
   },
   "outputs": [],
   "source": [
    "raw['text'] = raw['text'].apply(lambda x: x.replace(\",\",\" \"))\n",
    "raw['text'] = raw['text'].apply(lambda x: x.replace(\",,\",\" \"))"
   ]
  },
  {
   "cell_type": "code",
   "execution_count": 57,
   "metadata": {
    "colab": {
     "base_uri": "https://localhost:8080/",
     "height": 204
    },
    "id": "ATOMpt8ChY0Q",
    "outputId": "ee588c9a-9f76-4868-b2ac-c0f63312643a"
   },
   "outputs": [
    {
     "data": {
      "text/html": [
       "<div>\n",
       "<style scoped>\n",
       "    .dataframe tbody tr th:only-of-type {\n",
       "        vertical-align: middle;\n",
       "    }\n",
       "\n",
       "    .dataframe tbody tr th {\n",
       "        vertical-align: top;\n",
       "    }\n",
       "\n",
       "    .dataframe thead th {\n",
       "        text-align: right;\n",
       "    }\n",
       "</style>\n",
       "<table border=\"1\" class=\"dataframe\">\n",
       "  <thead>\n",
       "    <tr style=\"text-align: right;\">\n",
       "      <th></th>\n",
       "      <th>created_at</th>\n",
       "      <th>user</th>\n",
       "      <th>location</th>\n",
       "      <th>coordinates</th>\n",
       "      <th>text</th>\n",
       "      <th>retweet_count</th>\n",
       "      <th>favorite_count</th>\n",
       "      <th>id</th>\n",
       "      <th>nama_kota</th>\n",
       "      <th>avg_word</th>\n",
       "      <th>word_count</th>\n",
       "    </tr>\n",
       "  </thead>\n",
       "  <tbody>\n",
       "    <tr>\n",
       "      <th>0</th>\n",
       "      <td>2021-08-14 14:53:43</td>\n",
       "      <td>restrotangkot</td>\n",
       "      <td>Jl. Daan Mogot No.5, Tangerang</td>\n",
       "      <td>NaN</td>\n",
       "      <td>['jajaran'  'polsek'  'ciledug'  'polres'  'me...</td>\n",
       "      <td>0</td>\n",
       "      <td>0</td>\n",
       "      <td>ID3172</td>\n",
       "      <td>JAKARTA TIMUR</td>\n",
       "      <td>5.904762</td>\n",
       "      <td>21</td>\n",
       "    </tr>\n",
       "    <tr>\n",
       "      <th>1</th>\n",
       "      <td>2021-08-14 14:53:42</td>\n",
       "      <td>dryxanne</td>\n",
       "      <td>Jakarta</td>\n",
       "      <td>NaN</td>\n",
       "      <td>['habis'  'tu'  'kebangun'  'lsg'  'brasa'  'l...</td>\n",
       "      <td>0</td>\n",
       "      <td>0</td>\n",
       "      <td>ID3172</td>\n",
       "      <td>JAKARTA TIMUR</td>\n",
       "      <td>4.807692</td>\n",
       "      <td>26</td>\n",
       "    </tr>\n",
       "    <tr>\n",
       "      <th>2</th>\n",
       "      <td>2021-08-14 14:53:24</td>\n",
       "      <td>bukanlucinta</td>\n",
       "      <td>Jakarta, Indonesia.</td>\n",
       "      <td>NaN</td>\n",
       "      <td>['bertanyarl'  'lho'  'bersyukur'  'bisa'  'as...</td>\n",
       "      <td>0</td>\n",
       "      <td>0</td>\n",
       "      <td>ID3172</td>\n",
       "      <td>JAKARTA TIMUR</td>\n",
       "      <td>5.375000</td>\n",
       "      <td>24</td>\n",
       "    </tr>\n",
       "    <tr>\n",
       "      <th>3</th>\n",
       "      <td>2021-08-14 14:53:09</td>\n",
       "      <td>mporatne</td>\n",
       "      <td>DKI Jakarta, Indonesia</td>\n",
       "      <td>NaN</td>\n",
       "      <td>['trianadewi'  'dipegangin'  'bupati'  'biar' ...</td>\n",
       "      <td>0</td>\n",
       "      <td>0</td>\n",
       "      <td>ID3172</td>\n",
       "      <td>JAKARTA TIMUR</td>\n",
       "      <td>5.181818</td>\n",
       "      <td>11</td>\n",
       "    </tr>\n",
       "    <tr>\n",
       "      <th>4</th>\n",
       "      <td>2021-08-14 14:52:20</td>\n",
       "      <td>whopsy_opsy</td>\n",
       "      <td>Jakarta</td>\n",
       "      <td>NaN</td>\n",
       "      <td>['buset'  'habis'  'makan'  'melulu']</td>\n",
       "      <td>0</td>\n",
       "      <td>0</td>\n",
       "      <td>ID3172</td>\n",
       "      <td>JAKARTA TIMUR</td>\n",
       "      <td>5.000000</td>\n",
       "      <td>6</td>\n",
       "    </tr>\n",
       "  </tbody>\n",
       "</table>\n",
       "</div>"
      ],
      "text/plain": [
       "            created_at           user                        location  \\\n",
       "0  2021-08-14 14:53:43  restrotangkot  Jl. Daan Mogot No.5, Tangerang   \n",
       "1  2021-08-14 14:53:42       dryxanne                         Jakarta   \n",
       "2  2021-08-14 14:53:24   bukanlucinta             Jakarta, Indonesia.   \n",
       "3  2021-08-14 14:53:09       mporatne          DKI Jakarta, Indonesia   \n",
       "4  2021-08-14 14:52:20    whopsy_opsy                         Jakarta   \n",
       "\n",
       "  coordinates                                               text  \\\n",
       "0         NaN  ['jajaran'  'polsek'  'ciledug'  'polres'  'me...   \n",
       "1         NaN  ['habis'  'tu'  'kebangun'  'lsg'  'brasa'  'l...   \n",
       "2         NaN  ['bertanyarl'  'lho'  'bersyukur'  'bisa'  'as...   \n",
       "3         NaN  ['trianadewi'  'dipegangin'  'bupati'  'biar' ...   \n",
       "4         NaN              ['buset'  'habis'  'makan'  'melulu']   \n",
       "\n",
       "   retweet_count  favorite_count      id      nama_kota  avg_word  word_count  \n",
       "0              0               0  ID3172  JAKARTA TIMUR  5.904762          21  \n",
       "1              0               0  ID3172  JAKARTA TIMUR  4.807692          26  \n",
       "2              0               0  ID3172  JAKARTA TIMUR  5.375000          24  \n",
       "3              0               0  ID3172  JAKARTA TIMUR  5.181818          11  \n",
       "4              0               0  ID3172  JAKARTA TIMUR  5.000000           6  "
      ]
     },
     "execution_count": 57,
     "metadata": {},
     "output_type": "execute_result"
    }
   ],
   "source": [
    "raw.head()"
   ]
  },
  {
   "cell_type": "code",
   "execution_count": 58,
   "metadata": {
    "colab": {
     "base_uri": "https://localhost:8080/"
    },
    "id": "10wjg9_IhhDP",
    "outputId": "167f0e4c-823b-41df-8d45-bfcc6982c084"
   },
   "outputs": [
    {
     "name": "stdout",
     "output_type": "stream",
     "text": [
      "Defaulting to user installation because normal site-packages is not writeable\n",
      "Collecting Sastrawi\n",
      "  Downloading Sastrawi-1.0.1-py2.py3-none-any.whl (209 kB)\n",
      "\u001b[K     |################################| 209 kB 2.6 MB/s eta 0:00:01\n",
      "\u001b[?25hInstalling collected packages: Sastrawi\n",
      "Successfully installed Sastrawi-1.0.1\n",
      "\u001b[33mWARNING: You are using pip version 21.2.3; however, version 21.2.4 is available.\n",
      "You should consider upgrading via the '/usr/bin/python3 -m pip install --upgrade pip' command.\u001b[0m\n"
     ]
    }
   ],
   "source": [
    "!pip install Sastrawi"
   ]
  },
  {
   "cell_type": "code",
   "execution_count": 59,
   "metadata": {
    "id": "l5-3YLPNoN2Z"
   },
   "outputs": [],
   "source": [
    "from Sastrawi.Stemmer.StemmerFactory import StemmerFactory"
   ]
  },
  {
   "cell_type": "code",
   "execution_count": 60,
   "metadata": {
    "colab": {
     "base_uri": "https://localhost:8080/"
    },
    "id": "-N1iYGT4oR4P",
    "outputId": "03dcf2ab-7dc1-46e6-eb3d-3ff781115373"
   },
   "outputs": [
    {
     "data": {
      "text/plain": [
       "0       ['jajaran'  'polsek'  'ciledug'  'polres'  'me...\n",
       "1       ['habis'  'tu'  'kebangun'  'lsg'  'brasa'  'l...\n",
       "2       ['bertanyarl'  'lho'  'bersyukur'  'bisa'  'as...\n",
       "3       ['trianadewi'  'dipegangin'  'bupati'  'biar' ...\n",
       "4                   ['buset'  'habis'  'makan'  'melulu']\n",
       "                              ...                        \n",
       "5375    ['sodara'  'lingkungan'  'terkena'  'tolong'  ...\n",
       "5376                 ['sakit'  'kepala'  'sekali'  'abs']\n",
       "5377    ['helianthus'  'an'  'gringozika'  'dimasukin'...\n",
       "5378    ['mencari'  'badan'  'sertifikasi'  'vacine'  ...\n",
       "5379    ['ekokuntadhi'  'memang'  'gabener'  'bisa'  '...\n",
       "Name: text, Length: 5380, dtype: object"
      ]
     },
     "execution_count": 60,
     "metadata": {},
     "output_type": "execute_result"
    }
   ],
   "source": [
    "raw['text']"
   ]
  },
  {
   "cell_type": "code",
   "execution_count": 61,
   "metadata": {
    "colab": {
     "base_uri": "https://localhost:8080/",
     "height": 374
    },
    "id": "ejP6Z73PoYHe",
    "outputId": "a7a8c9b8-4bf3-4253-c9f6-51589f047779"
   },
   "outputs": [],
   "source": [
    "factory = StemmerFactory()\n",
    "stemmer = factory.create_stemmer()\n",
    "raw['text'] = raw['text'].apply(lambda x: stemmer.stem(x).replace(\" \",\",\"))"
   ]
  },
  {
   "cell_type": "code",
   "execution_count": 62,
   "metadata": {
    "id": "SF2BeINJIdot"
   },
   "outputs": [],
   "source": [
    "def avg_word(words):\n",
    "  return (sum(len(word) for word in words)/len(words))\n",
    "\n",
    "raw['avg_word'] = raw['text'].apply(lambda x: avg_word(x.split(\",\")))"
   ]
  },
  {
   "cell_type": "code",
   "execution_count": 63,
   "metadata": {
    "id": "Q6h0ctCyIgM6"
   },
   "outputs": [],
   "source": [
    "raw.to_csv(\"data_tweet_vaksinasi_cleaned_stemmed.csv\", index=False)"
   ]
  }
 ],
 "metadata": {
  "colab": {
   "collapsed_sections": [
    "PgF--Vt9QQ72",
    "0XtmZ0GZdiz-",
    "8Exnx6WWdrHs",
    "ZQEEbS2YfvHl",
    "0QwPGLfyBSQk",
    "LzAPZaD6rGJF"
   ],
   "name": "Introduction_to_Text_Analytics.ipynb",
   "provenance": []
  },
  "kernelspec": {
   "display_name": "Python 3",
   "language": "python",
   "name": "python3"
  },
  "language_info": {
   "codemirror_mode": {
    "name": "ipython",
    "version": 3
   },
   "file_extension": ".py",
   "mimetype": "text/x-python",
   "name": "python",
   "nbconvert_exporter": "python",
   "pygments_lexer": "ipython3",
   "version": "3.6.8"
  }
 },
 "nbformat": 4,
 "nbformat_minor": 1
}
